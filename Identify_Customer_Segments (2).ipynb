{
 "cells": [
  {
   "cell_type": "markdown",
   "metadata": {},
   "source": [
    "# Project: Identify Customer Segments\n",
    "\n",
    "In this project, you will apply unsupervised learning techniques to identify segments of the population that form the core customer base for a mail-order sales company in Germany. These segments can then be used to direct marketing campaigns towards audiences that will have the highest expected rate of returns. The data that you will use has been provided by our partners at Bertelsmann Arvato Analytics, and represents a real-life data science task.\n",
    "\n",
    "This notebook will help you complete this task by providing a framework within which you will perform your analysis steps. In each step of the project, you will see some text describing the subtask that you will perform, followed by one or more code cells for you to complete your work. **Feel free to add additional code and markdown cells as you go along so that you can explore everything in precise chunks.** The code cells provided in the base template will outline only the major tasks, and will usually not be enough to cover all of the minor tasks that comprise it.\n",
    "\n",
    "It should be noted that while there will be precise guidelines on how you should handle certain tasks in the project, there will also be places where an exact specification is not provided. **There will be times in the project where you will need to make and justify your own decisions on how to treat the data.** These are places where there may not be only one way to handle the data. In real-life tasks, there may be many valid ways to approach an analysis task. One of the most important things you can do is clearly document your approach so that other scientists can understand the decisions you've made.\n",
    "\n",
    "At the end of most sections, there will be a Markdown cell labeled **Discussion**. In these cells, you will report your findings for the completed section, as well as document the decisions that you made in your approach to each subtask. **Your project will be evaluated not just on the code used to complete the tasks outlined, but also your communication about your observations and conclusions at each stage.**"
   ]
  },
  {
   "cell_type": "code",
   "execution_count": 25,
   "metadata": {},
   "outputs": [],
   "source": [
    "# import libraries here; add more as necessary\n",
    "import numpy as np\n",
    "import pandas as pd\n",
    "import matplotlib.pyplot as plt\n",
    "import collections\n",
    "\n",
    "import seaborn as sns\n",
    "from mpl_toolkits.mplot3d import Axes3D\n",
    "from sklearn.cluster import KMeans\n",
    "from sklearn.preprocessing import OneHotEncoder\n",
    "from sklearn.preprocessing import StandardScaler\n",
    "from sklearn.decomposition import PCA\n",
    "# magic word for producing visualizations in notebook\n",
    "%matplotlib inline"
   ]
  },
  {
   "cell_type": "markdown",
   "metadata": {},
   "source": [
    "### Step 0: Load the Data\n",
    "\n",
    "There are four files associated with this project (not including this one):\n",
    "\n",
    "- `Udacity_AZDIAS_Subset.csv`: Demographics data for the general population of Germany; 891211 persons (rows) x 85 features (columns).\n",
    "- `Udacity_CUSTOMERS_Subset.csv`: Demographics data for customers of a mail-order company; 191652 persons (rows) x 85 features (columns).\n",
    "- `Data_Dictionary.md`: Detailed information file about the features in the provided datasets.\n",
    "- `AZDIAS_Feature_Summary.csv`: Summary of feature attributes for demographics data; 85 features (rows) x 4 columns\n",
    "\n",
    "Each row of the demographics files represents a single person, but also includes information outside of individuals, including information about their household, building, and neighborhood. You will use this information to cluster the general population into groups with similar demographic properties. Then, you will see how the people in the customers dataset fit into those created clusters. The hope here is that certain clusters are over-represented in the customers data, as compared to the general population; those over-represented clusters will be assumed to be part of the core userbase. This information can then be used for further applications, such as targeting for a marketing campaign.\n",
    "\n",
    "To start off with, load in the demographics data for the general population into a pandas DataFrame, and do the same for the feature attributes summary. Note for all of the `.csv` data files in this project: they're semicolon (`;`) delimited, so you'll need an additional argument in your [`read_csv()`](https://pandas.pydata.org/pandas-docs/stable/generated/pandas.read_csv.html) call to read in the data properly. Also, considering the size of the main dataset, it may take some time for it to load completely.\n",
    "\n",
    "Once the dataset is loaded, it's recommended that you take a little bit of time just browsing the general structure of the dataset and feature summary file. You'll be getting deep into the innards of the cleaning in the first major step of the project, so gaining some general familiarity can help you get your bearings."
   ]
  },
  {
   "cell_type": "code",
   "execution_count": 26,
   "metadata": {},
   "outputs": [],
   "source": [
    "# Load in the general demographics data.\n",
    "azdias = pd.read_csv('Udacity_AZDIAS_Subset.csv', delimiter=';')\n",
    "\n",
    "# Load in the feature summary file.\n",
    "feat_info = pd.read_csv('AZDIAS_Feature_Summary.csv',  delimiter=';')"
   ]
  },
  {
   "cell_type": "code",
   "execution_count": 27,
   "metadata": {},
   "outputs": [
    {
     "data": {
      "text/html": [
       "<div>\n",
       "<style scoped>\n",
       "    .dataframe tbody tr th:only-of-type {\n",
       "        vertical-align: middle;\n",
       "    }\n",
       "\n",
       "    .dataframe tbody tr th {\n",
       "        vertical-align: top;\n",
       "    }\n",
       "\n",
       "    .dataframe thead th {\n",
       "        text-align: right;\n",
       "    }\n",
       "</style>\n",
       "<table border=\"1\" class=\"dataframe\">\n",
       "  <thead>\n",
       "    <tr style=\"text-align: right;\">\n",
       "      <th></th>\n",
       "      <th>AGER_TYP</th>\n",
       "      <th>ALTERSKATEGORIE_GROB</th>\n",
       "      <th>ANREDE_KZ</th>\n",
       "      <th>CJT_GESAMTTYP</th>\n",
       "      <th>FINANZ_MINIMALIST</th>\n",
       "      <th>FINANZ_SPARER</th>\n",
       "      <th>FINANZ_VORSORGER</th>\n",
       "      <th>FINANZ_ANLEGER</th>\n",
       "      <th>FINANZ_UNAUFFAELLIGER</th>\n",
       "      <th>FINANZ_HAUSBAUER</th>\n",
       "      <th>...</th>\n",
       "      <th>PLZ8_ANTG1</th>\n",
       "      <th>PLZ8_ANTG2</th>\n",
       "      <th>PLZ8_ANTG3</th>\n",
       "      <th>PLZ8_ANTG4</th>\n",
       "      <th>PLZ8_BAUMAX</th>\n",
       "      <th>PLZ8_HHZ</th>\n",
       "      <th>PLZ8_GBZ</th>\n",
       "      <th>ARBEIT</th>\n",
       "      <th>ORTSGR_KLS9</th>\n",
       "      <th>RELAT_AB</th>\n",
       "    </tr>\n",
       "  </thead>\n",
       "  <tbody>\n",
       "    <tr>\n",
       "      <th>0</th>\n",
       "      <td>-1</td>\n",
       "      <td>2</td>\n",
       "      <td>1</td>\n",
       "      <td>2.0</td>\n",
       "      <td>3</td>\n",
       "      <td>4</td>\n",
       "      <td>3</td>\n",
       "      <td>5</td>\n",
       "      <td>5</td>\n",
       "      <td>3</td>\n",
       "      <td>...</td>\n",
       "      <td>NaN</td>\n",
       "      <td>NaN</td>\n",
       "      <td>NaN</td>\n",
       "      <td>NaN</td>\n",
       "      <td>NaN</td>\n",
       "      <td>NaN</td>\n",
       "      <td>NaN</td>\n",
       "      <td>NaN</td>\n",
       "      <td>NaN</td>\n",
       "      <td>NaN</td>\n",
       "    </tr>\n",
       "    <tr>\n",
       "      <th>1</th>\n",
       "      <td>-1</td>\n",
       "      <td>1</td>\n",
       "      <td>2</td>\n",
       "      <td>5.0</td>\n",
       "      <td>1</td>\n",
       "      <td>5</td>\n",
       "      <td>2</td>\n",
       "      <td>5</td>\n",
       "      <td>4</td>\n",
       "      <td>5</td>\n",
       "      <td>...</td>\n",
       "      <td>2.0</td>\n",
       "      <td>3.0</td>\n",
       "      <td>2.0</td>\n",
       "      <td>1.0</td>\n",
       "      <td>1.0</td>\n",
       "      <td>5.0</td>\n",
       "      <td>4.0</td>\n",
       "      <td>3.0</td>\n",
       "      <td>5.0</td>\n",
       "      <td>4.0</td>\n",
       "    </tr>\n",
       "    <tr>\n",
       "      <th>2</th>\n",
       "      <td>-1</td>\n",
       "      <td>3</td>\n",
       "      <td>2</td>\n",
       "      <td>3.0</td>\n",
       "      <td>1</td>\n",
       "      <td>4</td>\n",
       "      <td>1</td>\n",
       "      <td>2</td>\n",
       "      <td>3</td>\n",
       "      <td>5</td>\n",
       "      <td>...</td>\n",
       "      <td>3.0</td>\n",
       "      <td>3.0</td>\n",
       "      <td>1.0</td>\n",
       "      <td>0.0</td>\n",
       "      <td>1.0</td>\n",
       "      <td>4.0</td>\n",
       "      <td>4.0</td>\n",
       "      <td>3.0</td>\n",
       "      <td>5.0</td>\n",
       "      <td>2.0</td>\n",
       "    </tr>\n",
       "    <tr>\n",
       "      <th>3</th>\n",
       "      <td>2</td>\n",
       "      <td>4</td>\n",
       "      <td>2</td>\n",
       "      <td>2.0</td>\n",
       "      <td>4</td>\n",
       "      <td>2</td>\n",
       "      <td>5</td>\n",
       "      <td>2</td>\n",
       "      <td>1</td>\n",
       "      <td>2</td>\n",
       "      <td>...</td>\n",
       "      <td>2.0</td>\n",
       "      <td>2.0</td>\n",
       "      <td>2.0</td>\n",
       "      <td>0.0</td>\n",
       "      <td>1.0</td>\n",
       "      <td>3.0</td>\n",
       "      <td>4.0</td>\n",
       "      <td>2.0</td>\n",
       "      <td>3.0</td>\n",
       "      <td>3.0</td>\n",
       "    </tr>\n",
       "    <tr>\n",
       "      <th>4</th>\n",
       "      <td>-1</td>\n",
       "      <td>3</td>\n",
       "      <td>1</td>\n",
       "      <td>5.0</td>\n",
       "      <td>4</td>\n",
       "      <td>3</td>\n",
       "      <td>4</td>\n",
       "      <td>1</td>\n",
       "      <td>3</td>\n",
       "      <td>2</td>\n",
       "      <td>...</td>\n",
       "      <td>2.0</td>\n",
       "      <td>4.0</td>\n",
       "      <td>2.0</td>\n",
       "      <td>1.0</td>\n",
       "      <td>2.0</td>\n",
       "      <td>3.0</td>\n",
       "      <td>3.0</td>\n",
       "      <td>4.0</td>\n",
       "      <td>6.0</td>\n",
       "      <td>5.0</td>\n",
       "    </tr>\n",
       "  </tbody>\n",
       "</table>\n",
       "<p>5 rows × 85 columns</p>\n",
       "</div>"
      ],
      "text/plain": [
       "   AGER_TYP  ALTERSKATEGORIE_GROB  ANREDE_KZ  CJT_GESAMTTYP  \\\n",
       "0        -1                     2          1            2.0   \n",
       "1        -1                     1          2            5.0   \n",
       "2        -1                     3          2            3.0   \n",
       "3         2                     4          2            2.0   \n",
       "4        -1                     3          1            5.0   \n",
       "\n",
       "   FINANZ_MINIMALIST  FINANZ_SPARER  FINANZ_VORSORGER  FINANZ_ANLEGER  \\\n",
       "0                  3              4                 3               5   \n",
       "1                  1              5                 2               5   \n",
       "2                  1              4                 1               2   \n",
       "3                  4              2                 5               2   \n",
       "4                  4              3                 4               1   \n",
       "\n",
       "   FINANZ_UNAUFFAELLIGER  FINANZ_HAUSBAUER    ...     PLZ8_ANTG1  PLZ8_ANTG2  \\\n",
       "0                      5                 3    ...            NaN         NaN   \n",
       "1                      4                 5    ...            2.0         3.0   \n",
       "2                      3                 5    ...            3.0         3.0   \n",
       "3                      1                 2    ...            2.0         2.0   \n",
       "4                      3                 2    ...            2.0         4.0   \n",
       "\n",
       "   PLZ8_ANTG3  PLZ8_ANTG4  PLZ8_BAUMAX  PLZ8_HHZ  PLZ8_GBZ  ARBEIT  \\\n",
       "0         NaN         NaN          NaN       NaN       NaN     NaN   \n",
       "1         2.0         1.0          1.0       5.0       4.0     3.0   \n",
       "2         1.0         0.0          1.0       4.0       4.0     3.0   \n",
       "3         2.0         0.0          1.0       3.0       4.0     2.0   \n",
       "4         2.0         1.0          2.0       3.0       3.0     4.0   \n",
       "\n",
       "   ORTSGR_KLS9  RELAT_AB  \n",
       "0          NaN       NaN  \n",
       "1          5.0       4.0  \n",
       "2          5.0       2.0  \n",
       "3          3.0       3.0  \n",
       "4          6.0       5.0  \n",
       "\n",
       "[5 rows x 85 columns]"
      ]
     },
     "execution_count": 27,
     "metadata": {},
     "output_type": "execute_result"
    }
   ],
   "source": [
    "# Check the structure of the data after it's loaded (e.g. print the number of\n",
    "# rows and columns, print the first few rows).\n",
    "azdias.head()"
   ]
  },
  {
   "cell_type": "code",
   "execution_count": 28,
   "metadata": {},
   "outputs": [
    {
     "data": {
      "text/plain": [
       "array(['[-1,0]', '[-1,0,9]', '[0]', '[-1]', '[]', '[-1,9]', '[-1,X]',\n",
       "       '[XX]', '[-1,XX]'], dtype=object)"
      ]
     },
     "execution_count": 28,
     "metadata": {},
     "output_type": "execute_result"
    }
   ],
   "source": [
    "feat_info['missing_or_unknown'].unique()"
   ]
  },
  {
   "cell_type": "markdown",
   "metadata": {},
   "source": [
    "> **Tip**: Add additional cells to keep everything in reasonably-sized chunks! Keyboard shortcut `esc --> a` (press escape to enter command mode, then press the 'A' key) adds a new cell before the active cell, and `esc --> b` adds a new cell after the active cell. If you need to convert an active cell to a markdown cell, use `esc --> m` and to convert to a code cell, use `esc --> y`. \n",
    "\n",
    "## Step 1: Preprocessing\n",
    "\n",
    "### Step 1.1: Assess Missing Data\n",
    "\n",
    "The feature summary file contains a summary of properties for each demographics data column. You will use this file to help you make cleaning decisions during this stage of the project. First of all, you should assess the demographics data in terms of missing data. Pay attention to the following points as you perform your analysis, and take notes on what you observe. Make sure that you fill in the **Discussion** cell with your findings and decisions at the end of each step that has one!\n",
    "\n",
    "#### Step 1.1.1: Convert Missing Value Codes to NaNs\n",
    "The fourth column of the feature attributes summary (loaded in above as `feat_info`) documents the codes from the data dictionary that indicate missing or unknown data. While the file encodes this as a list (e.g. `[-1,0]`), this will get read in as a string object. You'll need to do a little bit of parsing to make use of it to identify and clean the data. Convert data that matches a 'missing' or 'unknown' value code into a numpy NaN value. You might want to see how much data takes on a 'missing' or 'unknown' code, and how much data is naturally missing, as a point of interest.\n",
    "\n",
    "**As one more reminder, you are encouraged to add additional cells to break up your analysis into manageable chunks.**"
   ]
  },
  {
   "cell_type": "code",
   "execution_count": 29,
   "metadata": {},
   "outputs": [],
   "source": [
    "# Identify missing or unknown data values and convert them to NaNs.\n",
    "feat_transpose = feat_info.drop(['information_level','type','attribute'], axis = 1).transpose()\n",
    "feat_transpose.columns = feat_info['attribute']\n",
    "na_dict = {}\n",
    "for column in feat_transpose.columns:\n",
    "    value_list = feat_transpose[column][0].split(',')\n",
    "    na_list = []\n",
    "    for value in value_list:\n",
    "        value = value.replace('[','')\n",
    "        value = value.replace(']','')\n",
    "        if value in ['-1','0','9']:\n",
    "            value = np.int64(value)\n",
    "            na_list.append(value)\n",
    "        elif value == '':\n",
    "            value = np.nan\n",
    "            na_list.append(value)\n",
    "        else:\n",
    "            na_list.append(value)\n",
    "    na_dict[column] = na_list\n",
    "\n",
    "for key in na_dict.keys():\n",
    "    azdias[key].replace(to_replace = na_dict[key], value = np.nan, inplace = True)\n",
    "\n"
   ]
  },
  {
   "cell_type": "markdown",
   "metadata": {},
   "source": [
    "#### Step 1.1.2: Assess Missing Data in Each Column\n",
    "\n",
    "How much missing data is present in each column? There are a few columns that are outliers in terms of the proportion of values that are missing. You will want to use matplotlib's [`hist()`](https://matplotlib.org/api/_as_gen/matplotlib.pyplot.hist.html) function to visualize the distribution of missing value counts to find these columns. Identify and document these columns. While some of these columns might have justifications for keeping or re-encoding the data, for this project you should just remove them from the dataframe. (Feel free to make remarks about these outlier columns in the discussion, however!)\n",
    "\n",
    "For the remaining features, are there any patterns in which columns have, or share, missing data?"
   ]
  },
  {
   "cell_type": "code",
   "execution_count": 30,
   "metadata": {},
   "outputs": [
    {
     "name": "stderr",
     "output_type": "stream",
     "text": [
      "/opt/conda/lib/python3.6/site-packages/pandas/core/frame.py:3781: SettingWithCopyWarning: \n",
      "A value is trying to be set on a copy of a slice from a DataFrame\n",
      "\n",
      "See the caveats in the documentation: http://pandas.pydata.org/pandas-docs/stable/indexing.html#indexing-view-versus-copy\n",
      "  return super(DataFrame, self).rename(**kwargs)\n",
      "/opt/conda/lib/python3.6/site-packages/ipykernel_launcher.py:10: SettingWithCopyWarning: \n",
      "A value is trying to be set on a copy of a slice from a DataFrame\n",
      "\n",
      "See the caveats in the documentation: http://pandas.pydata.org/pandas-docs/stable/indexing.html#indexing-view-versus-copy\n",
      "  # Remove the CWD from sys.path while we load stuff.\n"
     ]
    }
   ],
   "source": [
    "# Perform an assessment of how much missing data there is in each column of the\n",
    "# dataset.\n",
    "missing_percent = azdias.isna().sum()/len(azdias)\n",
    "sum_na = azdias.isna().sum()\n",
    "sum_na.head()\n",
    "missing_percent_test = pd.DataFrame(missing_percent, columns = ['Percent_Missing'])\n",
    "top_missing = missing_percent_test[missing_percent_test['Percent_Missing'] >= 0.1]\n",
    "top_missing.reset_index(inplace=True)\n",
    "top_missing.rename(columns = {'index':'Attributes'},inplace = True)\n",
    "top_missing.sort_values(by='Percent_Missing', axis=0, inplace = True, ascending = False)"
   ]
  },
  {
   "cell_type": "code",
   "execution_count": 31,
   "metadata": {
    "scrolled": false
   },
   "outputs": [
    {
     "data": {
      "text/plain": [
       "Text(0.5,1,'Attributes Missing > 10% of Data')"
      ]
     },
     "execution_count": 31,
     "metadata": {},
     "output_type": "execute_result"
    },
    {
     "data": {
      "image/png": "[encoded data removed]",
      "text/plain": [
       "<matplotlib.figure.Figure at 0x7f9700c34fd0>"
      ]
     },
     "metadata": {
      "needs_background": "light"
     },
     "output_type": "display_data"
    }
   ],
   "source": [
    "# Investigate patterns in the amount of missing data in each column.\n",
    "plt.figure(figsize=(10,15))\n",
    "color = sns.color_palette(palette = 'muted' )[0]\n",
    "sns.barplot(x=\"Percent_Missing\", y='Attributes', data=top_missing, color=color )\n",
    "plt.ylabel('Attributes')\n",
    "plt.xlabel('Percent Missing')\n",
    "plt.title('Attributes Missing > 10% of Data')\n"
   ]
  },
  {
   "cell_type": "code",
   "execution_count": 32,
   "metadata": {},
   "outputs": [],
   "source": [
    "# Remove the outlier columns from the dataset. (You'll perform other data\n",
    "# engineering tasks such as re-encoding and imputation later.)\n",
    "azdias_drop = azdias.drop(columns=['TITEL_KZ','AGER_TYP','KK_KUNDENTYP','KBA05_BAUMAX','GEBURTSJAHR','ALTER_HH'])"
   ]
  },
  {
   "cell_type": "markdown",
   "metadata": {},
   "source": [
    "#### Discussion 1.1.2: Assess Missing Data in Each Column\n",
    "\n",
    "\n",
    "For the missing values with respect to the columns, it appears that there are five rows specifically that are missing a large proportion of their data (>30%). This means that these columns will be entirely useless to our investigation and should be not considered. There are a few more that I am considering dropping falling between the 15% to 20% range, but I will make a decision later once we drop values based on rows. The reason for this, is that it may be that these specific columns' missing data percentage may lower, if there are other data columns also missing values at the same row. We will remove 'TITEL_KZ', 'AGER_TYP', 'KK_KUNDENTYP', 'KBA05_BAUMAX', 'GEBURTSJAHR', and 'ALTER_HH' from the dataset as they have more than 30% missing data."
   ]
  },
  {
   "cell_type": "markdown",
   "metadata": {},
   "source": [
    "#### Step 1.1.3: Assess Missing Data in Each Row\n",
    "\n",
    "Now, you'll perform a similar assessment for the rows of the dataset. How much data is missing in each row? As with the columns, you should see some groups of points that have a very different numbers of missing values. Divide the data into two subsets: one for data points that are above some threshold for missing values, and a second subset for points below that threshold.\n",
    "\n",
    "In order to know what to do with the outlier rows, we should see if the distribution of data values on columns that are not missing data (or are missing very little data) are similar or different between the two groups. Select at least five of these columns and compare the distribution of values.\n",
    "- You can use seaborn's [`countplot()`](https://seaborn.pydata.org/generated/seaborn.countplot.html) function to create a bar chart of code frequencies and matplotlib's [`subplot()`](https://matplotlib.org/api/_as_gen/matplotlib.pyplot.subplot.html) function to put bar charts for the two subplots side by side.\n",
    "- To reduce repeated code, you might want to write a function that can perform this comparison, taking as one of its arguments a column to be compared.\n",
    "\n",
    "Depending on what you observe in your comparison, this will have implications on how you approach your conclusions later in the analysis. If the distributions of non-missing features look similar between the data with many missing values and the data with few or no missing values, then we could argue that simply dropping those points from the analysis won't present a major issue. On the other hand, if the data with many missing values looks very different from the data with few or no missing values, then we should make a note on those data as special. We'll revisit these data later on. **Either way, you should continue your analysis for now using just the subset of the data with few or no missing values.**"
   ]
  },
  {
   "cell_type": "code",
   "execution_count": 33,
   "metadata": {
    "scrolled": true
   },
   "outputs": [],
   "source": [
    "# How much data is missing in each row of the dataset?\n",
    "num_missing = azdias_drop.isnull().sum(axis=1).value_counts()\n",
    "missing_row_df = pd.DataFrame(num_missing)\n",
    "missing_row_df.reset_index(inplace = True)\n",
    "missing_row_df.columns = ['Number_missing','Value_count']\n",
    "missing_row_df.sort_values(by='Number_missing', axis=0, inplace = True, ascending = False)"
   ]
  },
  {
   "cell_type": "code",
   "execution_count": 43,
   "metadata": {},
   "outputs": [
    {
     "data": {
      "text/plain": [
       "(623209, 80)"
      ]
     },
     "execution_count": 43,
     "metadata": {},
     "output_type": "execute_result"
    }
   ],
   "source": [
    "# Write code to divide the data into two subsets based on the number of missing\n",
    "# values in each row.\n",
    "missing = pd.DataFrame(azdias_drop.isnull().sum(axis=1), columns = ['Number_Missing'])\n",
    "threshold = 0\n",
    "\n",
    "not_missing_5 = missing[missing['Number_Missing'] < 1]\n",
    "missing_5 = missing[missing['Number_Missing'] > threshold]\n",
    "missing_5.reset_index(inplace = True)\n",
    "missing_5.columns = ['Row_Index','Number_Missing']\n",
    "\n",
    "not_missing_5.reset_index(inplace = True)\n",
    "not_missing_5.columns = ['Row_Index','Number_Missing']\n",
    "\n",
    "df = azdias_drop.reset_index()\n",
    "df_5 = df[df['index'].isin(missing_5['Row_Index'])]\n",
    "df_not_5 = df[df['index'].isin(not_missing_5['Row_Index'])]\n",
    "df_not_5.shape\n"
   ]
  },
  {
   "cell_type": "code",
   "execution_count": 44,
   "metadata": {},
   "outputs": [
    {
     "name": "stdout",
     "output_type": "stream",
     "text": [
      "        Row_Index  Number_Missing\n",
      "0               0              43\n",
      "1               3               7\n",
      "2              11              47\n",
      "3              12               6\n",
      "4              13               8\n",
      "5              14              47\n",
      "6              15               8\n",
      "7              16               6\n",
      "8              17              47\n",
      "9              18               3\n",
      "10             20              10\n",
      "11             23               8\n",
      "12             24              47\n",
      "13             25               5\n",
      "14             26              19\n",
      "15             29               2\n",
      "16             30              34\n",
      "17             34               4\n",
      "18             35              43\n",
      "19             39               5\n",
      "20             40               4\n",
      "21             42               2\n",
      "22             46              40\n",
      "23             48              47\n",
      "24             53              43\n",
      "25             54              47\n",
      "26             60               4\n",
      "27             61              43\n",
      "28             62              43\n",
      "29             64               5\n",
      "...           ...             ...\n",
      "267982     891129               8\n",
      "267983     891130              34\n",
      "267984     891135               6\n",
      "267985     891136               2\n",
      "267986     891137              34\n",
      "267987     891139               7\n",
      "267988     891140              34\n",
      "267989     891150               3\n",
      "267990     891154              11\n",
      "267991     891155               4\n",
      "267992     891157               4\n",
      "267993     891159              43\n",
      "267994     891161               3\n",
      "267995     891162               6\n",
      "267996     891164              43\n",
      "267997     891169              18\n",
      "267998     891170              19\n",
      "267999     891171              34\n",
      "268000     891172              16\n",
      "268001     891173              19\n",
      "268002     891175              47\n",
      "268003     891181               3\n",
      "268004     891184               8\n",
      "268005     891185              47\n",
      "268006     891187              47\n",
      "268007     891203              14\n",
      "268008     891208               3\n",
      "268009     891216               3\n",
      "268010     891217               4\n",
      "268011     891218               5\n",
      "\n",
      "[268012 rows x 2 columns]\n",
      "(623209, 80)\n"
     ]
    }
   ],
   "source": [
    "print(missing_5)\n",
    "print(df_not_5.shape)"
   ]
  },
  {
   "cell_type": "code",
   "execution_count": null,
   "metadata": {},
   "outputs": [],
   "source": [
    "# Compare the distribution of values for at least five columns where there are\n",
    "# no or few missing values, between the two subsets.\n",
    "missing_count = pd.DataFrame(azdias_drop.isnull().sum(axis=1), columns = ['Number_Missing'])"
   ]
  },
  {
   "cell_type": "code",
   "execution_count": null,
   "metadata": {},
   "outputs": [],
   "source": [
    "missing_percent = azdias.isna().sum()/len(azdias)\n",
    "missing_percent_test = pd.DataFrame(missing_percent, columns = ['Percent_Missing'])\n",
    "top_missing = missing_percent_test[missing_percent_test['Percent_Missing'] == 0]\n",
    "no_missing = list(top_missing.transpose().columns)\n"
   ]
  },
  {
   "cell_type": "code",
   "execution_count": null,
   "metadata": {},
   "outputs": [],
   "source": [
    "df_5_means = pd.DataFrame()\n",
    "for column in no_missing:\n",
    "    if column in df_5.columns:\n",
    "        df_5_means[column] = (df_5[column])\n",
    "        \n",
    "df_5_means = pd.DataFrame(np.mean(df_5_means)).transpose()\n",
    "\n",
    "df_not_5_means = pd.DataFrame()\n",
    "for column in no_missing:\n",
    "    if column in df_not_5.columns:\n",
    "        df_not_5_means[column] = (df_not_5[column])\n",
    "df_not_5_means = pd.DataFrame(np.mean(df_not_5_means)).transpose()\n",
    "\n",
    "df_diff = df_not_5_means - df_5_means"
   ]
  },
  {
   "cell_type": "code",
   "execution_count": null,
   "metadata": {
    "scrolled": false
   },
   "outputs": [],
   "source": [
    "f, axes = plt.subplots(3,1,figsize = (5,15))\n",
    "color = sns.color_palette(palette = 'muted' )[0]\n",
    "f1 = sns.barplot(data=df_5_means, color=color, orient = 'h', ax = axes[0])\n",
    "f2 = sns.barplot(data=df_not_5_means, color=color, orient = 'h', ax = axes[1])\n",
    "f3 = sns.barplot(data=df_diff, color=color, orient = 'h', ax = axes[2])\n",
    "f1.set_title('Mean Values of Categories missing 5 or more data points')\n",
    "f2.set_title('Mean Values of Categories missing less than 5 data points')\n",
    "f3.set_title('Difference between mean values')"
   ]
  },
  {
   "cell_type": "markdown",
   "metadata": {},
   "source": [
    "#### Discussion 1.1.3: Assess Missing Data in Each Row\n",
    "\n",
    "The data with 5 or greater missing values are in fact qualitatively different. As noted above, some of the mean values of the data are significantly different than those with fewer than 5 values, according to the three plots above. According to the difference plot, some are positive differences while others are negative. This means that it would be difficult to normalize the data. Thus we may consider dropping any columns that have 5 or more missing features. Doing this will reduce the size of our dataset but we will still have plenty of data to work with."
   ]
  },
  {
   "cell_type": "markdown",
   "metadata": {},
   "source": [
    "### Step 1.2: Select and Re-Encode Features\n",
    "\n",
    "Checking for missing data isn't the only way in which you can prepare a dataset for analysis. Since the unsupervised learning techniques to be used will only work on data that is encoded numerically, you need to make a few encoding changes or additional assumptions to be able to make progress. In addition, while almost all of the values in the dataset are encoded using numbers, not all of them represent numeric values. Check the third column of the feature summary (`feat_info`) for a summary of types of measurement.\n",
    "- For numeric and interval data, these features can be kept without changes.\n",
    "- Most of the variables in the dataset are ordinal in nature. While ordinal values may technically be non-linear in spacing, make the simplifying assumption that the ordinal variables can be treated as being interval in nature (that is, kept without any changes).\n",
    "- Special handling may be necessary for the remaining two variable types: categorical, and 'mixed'.\n",
    "\n",
    "In the first two parts of this sub-step, you will perform an investigation of the categorical and mixed-type features and make a decision on each of them, whether you will keep, drop, or re-encode each. Then, in the last part, you will create a new data frame with only the selected and engineered columns.\n",
    "\n",
    "Data wrangling is often the trickiest part of the data analysis process, and there's a lot of it to be done here. But stick with it: once you're done with this step, you'll be ready to get to the machine learning parts of the project!"
   ]
  },
  {
   "cell_type": "code",
   "execution_count": null,
   "metadata": {
    "scrolled": true
   },
   "outputs": [],
   "source": [
    "# How many features are there of each data type?\n",
    "feat_info['type'].value_counts()\n",
    "drop_feat = pd.DataFrame(feat_info[feat_info['type'] == 'categorical']['attribute'])['attribute']\n",
    "drop_feat = drop_feat.append(feat_info[feat_info['type'] == 'mixed']['attribute'])\n",
    "drop_feat.reset_index(drop = True, inplace = True)\n",
    "\n",
    "for row in range(0, len(drop_feat)):\n",
    "    if drop_feat[row] in ['TITEL_KZ','AGER_TYP','KK_KUNDENTYP','KBA05_BAUMAX']:\n",
    "        drop_feat = drop_feat.drop(row, axis= 0)\n",
    "drop_list = drop_feat.tolist()"
   ]
  },
  {
   "cell_type": "markdown",
   "metadata": {},
   "source": [
    "#### Step 1.2.1: Re-Encode Categorical Features\n",
    "\n",
    "For categorical data, you would ordinarily need to encode the levels as dummy variables. Depending on the number of categories, perform one of the following:\n",
    "- For binary (two-level) categoricals that take numeric values, you can keep them without needing to do anything.\n",
    "- There is one binary variable that takes on non-numeric values. For this one, you need to re-encode the values as numbers or create a dummy variable.\n",
    "- For multi-level categoricals (three or more values), you can choose to encode the values using multiple dummy variables (e.g. via [OneHotEncoder](http://scikit-learn.org/stable/modules/generated/sklearn.preprocessing.OneHotEncoder.html)), or (to keep things straightforward) just drop them from the analysis. As always, document your choices in the Discussion section."
   ]
  },
  {
   "cell_type": "code",
   "execution_count": null,
   "metadata": {},
   "outputs": [],
   "source": [
    "# Assess categorical variables: which are binary, which are multi-level, and\n",
    "# which one needs to be re-encoded?\n",
    "feat_cat = pd.DataFrame(feat_info[feat_info['type'] == 'categorical']['attribute'])\n",
    "feat_mix = pd.DataFrame(feat_info[feat_info['type'] == 'mixed']['attribute'])\n",
    "\n",
    "df_mix = pd.DataFrame()\n",
    "for column in list(feat_mix['attribute']):\n",
    "    if column in df_not_5.columns:\n",
    "        df_mix[column] = (df_not_5[column])\n",
    "\n",
    "df_cat = pd.DataFrame()\n",
    "for column in list(feat_cat['attribute']):\n",
    "    if column in df_not_5.columns:\n",
    "        df_cat[column] = (df_not_5[column])\n",
    "        \n",
    "print(df_cat.shape)\n",
    "values_list = []       \n",
    "for column in df_cat.columns:\n",
    "    if len(azdias_drop[column].unique()) > 2:\n",
    "        print('{} has {} unique values'.format(column, len(df_cat[column].unique())))\n",
    "        values_list.append(column)        \n",
    "        \n",
    "values_list.remove('CAMEO_DEU_2015')\n",
    "df_cat.drop(labels = values_list, inplace = True, axis = 1)"
   ]
  },
  {
   "cell_type": "code",
   "execution_count": null,
   "metadata": {},
   "outputs": [],
   "source": [
    "# Re-encode categorical variable(s) to be kept in the analysis.\n",
    "enc_dic = {}\n",
    "for i, value in enumerate(df_cat['CAMEO_DEU_2015'].unique()):\n",
    "    enc_dic[value] = i\n",
    "df_cat.replace(to_replace=enc_dic, inplace= True)\n"
   ]
  },
  {
   "cell_type": "markdown",
   "metadata": {},
   "source": [
    "#### Discussion 1.2.1: Re-Encode Categorical Features\n",
    "\n",
    "\n",
    "For the multi-level categorical variables, we will be dropping them from the analysis to simplify our data pre-processing. About half of the categories that will be dropped, did not have useful information in them anyway according to the data_dictionary. For the binary, we will keep all of those features and CAMEO_DEU_2015 will be reencoded with numbers representing each category."
   ]
  },
  {
   "cell_type": "markdown",
   "metadata": {},
   "source": [
    "#### Step 1.2.2: Engineer Mixed-Type Features\n",
    "\n",
    "There are a handful of features that are marked as \"mixed\" in the feature summary that require special treatment in order to be included in the analysis. There are two in particular that deserve attention; the handling of the rest are up to your own choices:\n",
    "- \"PRAEGENDE_JUGENDJAHRE\" combines information on three dimensions: generation by decade, movement (mainstream vs. avantgarde), and nation (east vs. west). While there aren't enough levels to disentangle east from west, you should create two new variables to capture the other two dimensions: an interval-type variable for decade, and a binary variable for movement.\n",
    "- \"CAMEO_INTL_2015\" combines information on two axes: wealth and life stage. Break up the two-digit codes by their 'tens'-place and 'ones'-place digits into two new ordinal variables (which, for the purposes of this project, is equivalent to just treating them as their raw numeric values).\n",
    "- If you decide to keep or engineer new features around the other mixed-type features, make sure you note your steps in the Discussion section.\n",
    "\n",
    "Be sure to check `Data_Dictionary.md` for the details needed to finish these tasks."
   ]
  },
  {
   "cell_type": "code",
   "execution_count": null,
   "metadata": {
    "scrolled": true
   },
   "outputs": [],
   "source": [
    "# Investigate \"PRAEGENDE_JUGENDJAHRE\" and engineer two new variables.\n",
    "replace_list = [[1, 2], [3, 4], [5, 6, 7], [8, 9], [10, 11, 12, 13], [14, 15]]\n",
    "value_list = [1,2,3,4,5,6]\n",
    "df_years = pd.DataFrame(df_mix['PRAEGENDE_JUGENDJAHRE'])\n",
    "for idx in range(0, len(replace_list)):\n",
    "    df_years['PRAEGENDE_JUGENDJAHRE'].replace(to_replace = replace_list[idx], value = value_list[idx], inplace = True )\n",
    "\n",
    "replace_list = [[1, 3, 5, 8, 10, 12, 14], [2, 4, 6, 7, 9, 11, 13, 15]]\n",
    "value_list = [1,2]\n",
    "df_move = pd.DataFrame(df_mix['PRAEGENDE_JUGENDJAHRE'])\n",
    "for idx in range(0, len(replace_list)):\n",
    "    df_move['PRAEGENDE_JUGENDJAHRE'].replace(to_replace = replace_list[idx], value = value_list[idx], inplace = True )\n",
    "\n",
    "df_prae = pd.DataFrame(data = [df_years['PRAEGENDE_JUGENDJAHRE'], df_move['PRAEGENDE_JUGENDJAHRE']]).transpose()\n",
    "df_prae.columns = ['Decade', 'Movement']"
   ]
  },
  {
   "cell_type": "code",
   "execution_count": null,
   "metadata": {
    "scrolled": true
   },
   "outputs": [],
   "source": [
    "# Investigate \"CAMEO_INTL_2015\" and engineer two new variables.\n",
    "df_new = pd.DataFrame()\n",
    "df_new[\"Wealth\"]= df_mix[\"CAMEO_INTL_2015\"].str[0]\n",
    "df_new[\"Family_Age\"]= df_mix[\"CAMEO_INTL_2015\"].str[1]\n"
   ]
  },
  {
   "cell_type": "code",
   "execution_count": null,
   "metadata": {
    "scrolled": true
   },
   "outputs": [],
   "source": [
    "df_mix = pd.concat([df_new, df_prae], axis = 1)\n",
    "df_mix = df_mix.astype(np.float64)\n"
   ]
  },
  {
   "cell_type": "markdown",
   "metadata": {},
   "source": [
    "#### Discussion 1.2.2: Engineer Mixed-Type Features\n",
    "\n",
    "(Double-click this cell and replace this text with your own text, reporting your findings and decisions regarding mixed-value features. Which ones did you keep, which did you drop, and what engineering steps did you perform?)\n",
    "LP_LEBENSPHASE_FEIN, LP_LEBENSPHASE_GROB, WOHNLAGE, PLZ8_BAUMAX, were all dropped from our analysis as the first three are linked to CAMEO_INTL_2015 and we don't need 4 variables to explain the same thing. PLZ8_BAUMAX represents the building type within the PLZ8 region and does not seem relevant to our inquiries.\n",
    "\n",
    "CAMEO_INTL_2015 and PRAEGENDE_JUGENDJAHRE were mapped to two new variables each."
   ]
  },
  {
   "cell_type": "markdown",
   "metadata": {},
   "source": [
    "#### Step 1.2.3: Complete Feature Selection\n",
    "\n",
    "In order to finish this step up, you need to make sure that your data frame now only has the columns that you want to keep. To summarize, the dataframe should consist of the following:\n",
    "- All numeric, interval, and ordinal type columns from the original dataset.\n",
    "- Binary categorical features (all numerically-encoded).\n",
    "- Engineered features from other multi-level categorical features and mixed features.\n",
    "\n",
    "Make sure that for any new columns that you have engineered, that you've excluded the original columns from the final dataset. Otherwise, their values will interfere with the analysis later on the project. For example, you should not keep \"PRAEGENDE_JUGENDJAHRE\", since its values won't be useful for the algorithm: only the values derived from it in the engineered features you created should be retained. As a reminder, your data should only be from **the subset with few or no missing values**."
   ]
  },
  {
   "cell_type": "code",
   "execution_count": null,
   "metadata": {},
   "outputs": [],
   "source": [
    "# If there are other re-engineering tasks you need to perform, make sure you\n",
    "# take care of them here. (Dealing with missing data will come in step 2.1.)\n",
    "df_dropped = df_not_5.drop(labels = drop_list, axis = 1)\n",
    "df_final = pd.concat([df_dropped, df_mix, df_cat], axis = 1)"
   ]
  },
  {
   "cell_type": "code",
   "execution_count": null,
   "metadata": {
    "scrolled": true
   },
   "outputs": [],
   "source": [
    "# Do whatever you need to in order to ensure that the dataframe only contains\n",
    "# the columns that should be passed to the algorithm functions.\n",
    "df_final.shape"
   ]
  },
  {
   "cell_type": "markdown",
   "metadata": {},
   "source": [
    "### Step 1.3: Create a Cleaning Function\n",
    "\n",
    "Even though you've finished cleaning up the general population demographics data, it's important to look ahead to the future and realize that you'll need to perform the same cleaning steps on the customer demographics data. In this substep, complete the function below to execute the main feature selection, encoding, and re-engineering steps you performed above. Then, when it comes to looking at the customer data in Step 3, you can just run this function on that DataFrame to get the trimmed dataset in a single step."
   ]
  },
  {
   "cell_type": "code",
   "execution_count": 65,
   "metadata": {
    "scrolled": true
   },
   "outputs": [],
   "source": [
    "def clean_data(df):\n",
    "    \"\"\"\n",
    "    Perform feature trimming, re-encoding, and engineering for demographics\n",
    "    data\n",
    "    \n",
    "    INPUT: Demographics DataFrame\n",
    "    OUTPUT: Trimmed and cleaned demographics DataFrame\n",
    "    \"\"\"\n",
    "    \n",
    "    # Put in code here to execute all main cleaning steps:\n",
    "    # convert missing value codes into NaNs, ...\n",
    "    feat_info = pd.read_csv('AZDIAS_Feature_Summary.csv',  delimiter=';')\n",
    "    feat_transpose = feat_info.drop(['information_level','type','attribute'], axis = 1).transpose()\n",
    "    feat_transpose.columns = feat_info['attribute']\n",
    "    na_dict = {}\n",
    "    for column in feat_transpose.columns:\n",
    "        value_list = feat_transpose[column][0].split(',')\n",
    "        na_list = []\n",
    "        for value in value_list:\n",
    "            value = value.replace('[','')\n",
    "            value = value.replace(']','')\n",
    "            if value in ['-1','0','9']:\n",
    "                value = np.int64(value)\n",
    "                na_list.append(value)\n",
    "            elif value == '':\n",
    "                value = np.nan\n",
    "                na_list.append(value)\n",
    "            else:\n",
    "                na_list.append(value)\n",
    "        na_dict[column] = na_list\n",
    "    print('Missing values converted to NaNs...')\n",
    "    \n",
    "    for key in na_dict.keys():\n",
    "        df[key].replace(to_replace = na_dict[key], value = np.nan, inplace = True)\n",
    "    # remove selected columns and rows, ...\n",
    "    #remove columns with large missing data percentage\n",
    "    missing_percent = azdias.isna().sum()/len(azdias)\n",
    "    missing_percent_test = pd.DataFrame(missing_percent, columns = ['Percent_Missing'])\n",
    "    top_missing = missing_percent_test[missing_percent_test['Percent_Missing'] >= 0.2]\n",
    "    \n",
    "    #remove columns missing 5 or more values\n",
    "    df_drop = df.drop(columns = list(top_missing.transpose().columns))\n",
    "    print('Columns missing >20% of data removed...')\n",
    "    \n",
    "    missing_5 = pd.DataFrame(df_drop.isnull().sum(axis=1), columns = ['Number_Missing'])\n",
    "    total = len(missing_5)\n",
    "    not_missing_5 = missing_5[missing_5['Number_Missing'] < 1]\n",
    "    kept = len(not_missing_5)\n",
    "    removed = total - kept\n",
    "    print(\"{} removed data points\".format(removed))\n",
    "    not_missing_5.reset_index(inplace = True)\n",
    "    not_missing_5.columns = ['Row_Index','Number_Missing']\n",
    "    \n",
    "    df = df_drop.reset_index()\n",
    "    df_not_5 = df[df['index'].isin(not_missing_5['Row_Index'])]\n",
    "    print('Rows missing more than 5 values removed...')\n",
    "    \n",
    "    # select, re-encode, and engineer column values.\n",
    "    drop_feat = pd.DataFrame(feat_info[feat_info['type'] == 'categorical']['attribute'])['attribute']\n",
    "    drop_feat = drop_feat.append(feat_info[feat_info['type'] == 'mixed']['attribute'])\n",
    "    drop_feat.reset_index(drop = True, inplace = True)\n",
    "    print('Reencoding Mixed and Categorical Features...')\n",
    "    for row in range(0, len(drop_feat)):\n",
    "        if drop_feat[row] in list(top_missing.transpose().columns):\n",
    "            drop_feat = drop_feat.drop(row, axis= 0)\n",
    "    drop_list = drop_feat.tolist()\n",
    "    \n",
    "    feat_cat = pd.DataFrame(feat_info[feat_info['type'] == 'categorical']['attribute'])\n",
    "    feat_mix = pd.DataFrame(feat_info[feat_info['type'] == 'mixed']['attribute'])\n",
    "    \n",
    "    df_mix = pd.DataFrame()\n",
    "    for column in list(feat_mix['attribute']):\n",
    "        if column in df_not_5.columns:\n",
    "            df_mix[column] = (df_not_5[column])\n",
    "\n",
    "    df_cat = pd.DataFrame()\n",
    "    for column in list(feat_cat['attribute']):\n",
    "        if column in df_not_5.columns:\n",
    "            df_cat[column] = (df_not_5[column])\n",
    "            \n",
    "    values_list = []\n",
    "    for column in df_cat.columns:\n",
    "        if len(df_drop[column].unique()) > 2:\n",
    "            values_list.append(column)        \n",
    "    \n",
    "    values_list.remove('CAMEO_DEU_2015')\n",
    "    df_cat.drop(labels = values_list, inplace = True, axis = 1)\n",
    "    \n",
    "    enc_dic = {}\n",
    "    for i, value in enumerate(df_cat['CAMEO_DEU_2015'].unique()):\n",
    "        enc_dic[value] = i\n",
    "    df_cat.replace(to_replace=enc_dic, inplace= True)\n",
    "    \n",
    "    replace_list = [[1, 2], [3, 4], [5, 6, 7], [8, 9], [10, 11, 12, 13], [14, 15]]\n",
    "    value_list = [1,2,3,4,5,6]\n",
    "    df_years = pd.DataFrame(df_mix['PRAEGENDE_JUGENDJAHRE'])\n",
    "    for idx in range(0, len(replace_list)):\n",
    "        df_years['PRAEGENDE_JUGENDJAHRE'].replace(to_replace = replace_list[idx], value = value_list[idx], inplace = True )\n",
    "\n",
    "    replace_list = [[1, 3, 5, 8, 10, 12, 14], [2, 4, 6, 7, 9, 11, 13, 15]]\n",
    "    value_list = [1,2]\n",
    "    df_move = pd.DataFrame(df_mix['PRAEGENDE_JUGENDJAHRE'])\n",
    "    for idx in range(0, len(replace_list)):\n",
    "        df_move['PRAEGENDE_JUGENDJAHRE'].replace(to_replace = replace_list[idx], value = value_list[idx], inplace = True )\n",
    "    print('Reencoding Complete...')\n",
    "    print('Concatenating Dataset...')\n",
    "    df_prae = pd.DataFrame(data = [df_years['PRAEGENDE_JUGENDJAHRE'], df_move['PRAEGENDE_JUGENDJAHRE']]).transpose()\n",
    "    df_prae.columns = ['Decade', 'Movement']\n",
    "    \n",
    "    df_new = pd.DataFrame()\n",
    "    df_new[\"Wealth\"]= df_mix[\"CAMEO_INTL_2015\"].str[0]\n",
    "    df_new[\"Family_Age\"]= df_mix[\"CAMEO_INTL_2015\"].str[1]\n",
    "    df_mix = pd.concat([df_new, df_prae], axis = 1)\n",
    "    df_mix = df_mix.astype(np.float64)\n",
    "    \n",
    "    df_dropped = df_not_5.drop(labels = drop_list, axis = 1)\n",
    "    df_final = pd.concat([df_dropped, df_mix, df_cat], axis = 1)\n",
    "    df_final.drop(labels=['index'], axis = 1, inplace = True)\n",
    "    # Return the cleaned dataframe.\n",
    "    print('Cleaning complete.')\n",
    "    return df_final\n",
    "    \n",
    "\n",
    "\n",
    "\n"
   ]
  },
  {
   "cell_type": "markdown",
   "metadata": {},
   "source": [
    "## Step 2: Feature Transformation\n",
    "\n",
    "### Step 2.1: Apply Feature Scaling\n",
    "\n",
    "Before we apply dimensionality reduction techniques to the data, we need to perform feature scaling so that the principal component vectors are not influenced by the natural differences in scale for features. Starting from this part of the project, you'll want to keep an eye on the [API reference page for sklearn](http://scikit-learn.org/stable/modules/classes.html) to help you navigate to all of the classes and functions that you'll need. In this substep, you'll need to check the following:\n",
    "\n",
    "- sklearn requires that data not have missing values in order for its estimators to work properly. So, before applying the scaler to your data, make sure that you've cleaned the DataFrame of the remaining missing values. This can be as simple as just removing all data points with missing data, or applying an [Imputer](http://scikit-learn.org/stable/modules/generated/sklearn.preprocessing.Imputer.html) to replace all missing values. You might also try a more complicated procedure where you temporarily remove missing values in order to compute the scaling parameters before re-introducing those missing values and applying imputation. Think about how much missing data you have and what possible effects each approach might have on your analysis, and justify your decision in the discussion section below.\n",
    "- For the actual scaling function, a [StandardScaler](http://scikit-learn.org/stable/modules/generated/sklearn.preprocessing.StandardScaler.html) instance is suggested, scaling each feature to mean 0 and standard deviation 1.\n",
    "- For these classes, you can make use of the `.fit_transform()` method to both fit a procedure to the data as well as apply the transformation to the data at the same time. Don't forget to keep the fit sklearn objects handy, since you'll be applying them to the customer demographics data towards the end of the project."
   ]
  },
  {
   "cell_type": "code",
   "execution_count": 64,
   "metadata": {},
   "outputs": [
    {
     "name": "stdout",
     "output_type": "stream",
     "text": [
      "Missing values converted to NaNs...\n",
      "Columns missing >20% of data removed...\n",
      "268012 removed values\n",
      "Rows missing more than 5 values removed...\n",
      "Reencoding Mixed and Categorical Features...\n",
      "Reencoding Complete...\n",
      "Concatenating Dataset...\n",
      "Cleaning complete.\n"
     ]
    }
   ],
   "source": [
    "# If you've not yet cleaned the dataset of all NaN values, then investigate and\n",
    "# do that now.\n",
    "df_1 = clean_data(azdias)"
   ]
  },
  {
   "cell_type": "code",
   "execution_count": 6,
   "metadata": {},
   "outputs": [],
   "source": [
    "# Apply feature scaling to the general population demographics data.\n",
    "X = StandardScaler().fit_transform(df_1)"
   ]
  },
  {
   "cell_type": "markdown",
   "metadata": {},
   "source": [
    "### Discussion 2.1: Apply Feature Scaling\n",
    "\n",
    "(Double-click this cell and replace this text with your own text, reporting your decisions regarding feature scaling.)\n",
    "We will be dropping all data that is missing rows. While this is a large amount of data, it still allows us to keep the majority of our data after pre-processing."
   ]
  },
  {
   "cell_type": "markdown",
   "metadata": {},
   "source": [
    "### Step 2.2: Perform Dimensionality Reduction\n",
    "\n",
    "On your scaled data, you are now ready to apply dimensionality reduction techniques.\n",
    "\n",
    "- Use sklearn's [PCA](http://scikit-learn.org/stable/modules/generated/sklearn.decomposition.PCA.html) class to apply principal component analysis on the data, thus finding the vectors of maximal variance in the data. To start, you should not set any parameters (so all components are computed) or set a number of components that is at least half the number of features (so there's enough features to see the general trend in variability).\n",
    "- Check out the ratio of variance explained by each principal component as well as the cumulative variance explained. Try plotting the cumulative or sequential values using matplotlib's [`plot()`](https://matplotlib.org/api/_as_gen/matplotlib.pyplot.plot.html) function. Based on what you find, select a value for the number of transformed features you'll retain for the clustering part of the project.\n",
    "- Once you've made a choice for the number of components to keep, make sure you re-fit a PCA instance to perform the decided-on transformation."
   ]
  },
  {
   "cell_type": "code",
   "execution_count": 7,
   "metadata": {},
   "outputs": [],
   "source": [
    "# Apply PCA to the data.\n",
    "pca = PCA(n_components = int(len(df_1.columns)/2))\n",
    "X_pca = pca.fit_transform(X)\n"
   ]
  },
  {
   "cell_type": "code",
   "execution_count": 8,
   "metadata": {},
   "outputs": [
    {
     "data": {
      "image/png": "[encoded data removed]",
      "text/plain": [
       "<matplotlib.figure.Figure at 0x7f96f4271a20>"
      ]
     },
     "metadata": {
      "needs_background": "light"
     },
     "output_type": "display_data"
    }
   ],
   "source": [
    "# Investigate the variance accounted for by each principal component.\n",
    "def scree_plot(pca):\n",
    "    '''\n",
    "    Creates a scree plot associated with the principal components \n",
    "    \n",
    "    INPUT: pca - the result of instantian of PCA in scikit learn\n",
    "            \n",
    "    OUTPUT:\n",
    "            None\n",
    "    '''\n",
    "    num_components = len(pca.explained_variance_ratio_)\n",
    "    ind = np.arange(num_components)\n",
    "    vals = pca.explained_variance_ratio_\n",
    "    \n",
    " \n",
    "    plt.figure(figsize=(15, 6))\n",
    "    ax = plt.subplot(111)\n",
    "    cumvals = np.cumsum(vals)\n",
    "    ax.bar(ind, vals)\n",
    "    ax.plot(ind, cumvals)\n",
    "    for i in range(num_components):\n",
    "        ax.annotate(r\"%s%%\" % ((str(vals[i]*100)[:4])), (ind[i]+0.2, vals[i]), va=\"bottom\", ha=\"center\", fontsize=12)\n",
    " \n",
    "    ax.xaxis.set_tick_params(width=0)\n",
    "    ax.yaxis.set_tick_params(width=2, length=12)\n",
    "    \n",
    "    ax.set_xlabel(\"Principal Component\")\n",
    "    ax.set_ylabel(\"Variance Explained (%)\")\n",
    "    plt.title('Explained Variance Per Principal Component')\n",
    "\n",
    "scree_plot(pca)"
   ]
  },
  {
   "cell_type": "code",
   "execution_count": 9,
   "metadata": {},
   "outputs": [],
   "source": [
    "# Re-apply PCA to the data while selecting for number of components to retain.\n",
    "pca = PCA(n_components = 15)\n",
    "X_pca = pca.fit_transform(X)"
   ]
  },
  {
   "cell_type": "markdown",
   "metadata": {},
   "source": [
    "### Discussion 2.2: Perform Dimensionality Reduction\n",
    "\n",
    "(Double-click this cell and replace this text with your own text, reporting your findings and decisions regarding dimensionality reduction. How many principal components / transformed features are you retaining for the next step of the analysis?)\n",
    "\n",
    "We will keep 15 components. The reason we will choose this number is according to the scree plot, this explains approximately 75% of our variance, thus we may be able to perform better clustering."
   ]
  },
  {
   "cell_type": "markdown",
   "metadata": {},
   "source": [
    "### Step 2.3: Interpret Principal Components\n",
    "\n",
    "Now that we have our transformed principal components, it's a nice idea to check out the weight of each variable on the first few components to see if they can be interpreted in some fashion.\n",
    "\n",
    "As a reminder, each principal component is a unit vector that points in the direction of highest variance (after accounting for the variance captured by earlier principal components). The further a weight is from zero, the more the principal component is in the direction of the corresponding feature. If two features have large weights of the same sign (both positive or both negative), then increases in one tend expect to be associated with increases in the other. To contrast, features with different signs can be expected to show a negative correlation: increases in one variable should result in a decrease in the other.\n",
    "\n",
    "- To investigate the features, you should map each weight to their corresponding feature name, then sort the features according to weight. The most interesting features for each principal component, then, will be those at the beginning and end of the sorted list. Use the data dictionary document to help you understand these most prominent features, their relationships, and what a positive or negative value on the principal component might indicate.\n",
    "- You should investigate and interpret feature associations from the first three principal components in this substep. To help facilitate this, you should write a function that you can call at any time to print the sorted list of feature weights, for the *i*-th principal component. This might come in handy in the next step of the project, when you interpret the tendencies of the discovered clusters."
   ]
  },
  {
   "cell_type": "code",
   "execution_count": 10,
   "metadata": {
    "scrolled": true
   },
   "outputs": [
    {
     "name": "stdout",
     "output_type": "stream",
     "text": [
      "Attribute: MOBI_REGIO, Weight: -0.23258305151676525\n",
      "Attribute: FINANZ_MINIMALIST, Weight: -0.2234991542687293\n",
      "Attribute: KBA05_ANTG1, Weight: -0.21757197632713698\n",
      "Attribute: PLZ8_ANTG1, Weight: -0.21403150262712498\n",
      "Attribute: KBA05_GBZ, Weight: -0.20759414933491027\n",
      "Attribute: PLZ8_GBZ, Weight: -0.16095399242157293\n",
      "Attribute: KONSUMNAEHE, Weight: -0.15620027723400792\n",
      "Attribute: INNENSTADT, Weight: -0.15371456819650378\n",
      "Attribute: ALTERSKATEGORIE_GROB, Weight: -0.15032002868908054\n",
      "Attribute: FINANZ_VORSORGER, Weight: -0.13754347873781123\n",
      "Attribute: Family_Age, Weight: -0.12690586982266394\n",
      "Attribute: BALLRAUM, Weight: -0.11705166454310822\n",
      "Attribute: Movement, Weight: -0.11476288254930318\n",
      "Attribute: GREEN_AVANTGARDE, Weight: -0.11476288254930318\n",
      "Attribute: GEBAEUDETYP_RASTER, Weight: -0.11043147536254057\n",
      "Attribute: SEMIO_LUST, Weight: -0.107819424800895\n",
      "Attribute: SEMIO_ERL, Weight: -0.10705236220200204\n",
      "Attribute: KBA13_ANZAHL_PKW, Weight: -0.07723487725312426\n",
      "Attribute: ANZ_PERSONEN, Weight: -0.07663622205994486\n",
      "Attribute: WOHNDAUER_2008, Weight: -0.06999878247647263\n",
      "Attribute: RETOURTYP_BK_S, Weight: -0.03993211623574396\n",
      "Attribute: MIN_GEBAEUDEJAHR, Weight: -0.035304318911008215\n",
      "Attribute: CAMEO_DEU_2015, Weight: -0.031281951701242885\n",
      "Attribute: SEMIO_VERT, Weight: -0.025114054689987533\n",
      "Attribute: ONLINE_AFFINITAET, Weight: -0.022723025120574482\n",
      "Attribute: SEMIO_KRIT, Weight: -0.007961914891488972\n",
      "Attribute: ANZ_TITEL, Weight: -0.005996473204862375\n",
      "Attribute: ANREDE_KZ, Weight: -0.004078266821039832\n",
      "Attribute: KBA05_ANTG2, Weight: 0.008829363250435018\n",
      "Attribute: SEMIO_DOM, Weight: 0.013265783702617348\n",
      "Attribute: W_KEIT_KIND_HH, Weight: 0.02271811067391527\n",
      "Attribute: SEMIO_KAEM, Weight: 0.02664717578467435\n",
      "Attribute: ANZ_HH_TITEL, Weight: 0.030460811802357247\n",
      "Attribute: PLZ8_HHZ, Weight: 0.03637208562287139\n",
      "Attribute: HEALTH_TYP, Weight: 0.038748566374518484\n",
      "Attribute: KKK, Weight: 0.04540995263433019\n",
      "Attribute: SEMIO_SOZ, Weight: 0.053068815905932154\n",
      "Attribute: REGIOTYP, Weight: 0.07251835658633533\n",
      "Attribute: FINANZ_ANLEGER, Weight: 0.08834280381119584\n",
      "Attribute: SEMIO_KULT, Weight: 0.0944784647034141\n",
      "Attribute: SEMIO_FAM, Weight: 0.09601731736651441\n",
      "Attribute: FINANZ_UNAUFFAELLIGER, Weight: 0.09811895465943485\n",
      "Attribute: SEMIO_MAT, Weight: 0.09959503045794192\n",
      "Attribute: SEMIO_RAT, Weight: 0.1123302769385152\n",
      "Attribute: SEMIO_TRADV, Weight: 0.12266232703823175\n",
      "Attribute: RELAT_AB, Weight: 0.12502151380407572\n",
      "Attribute: Decade, Weight: 0.12912821628134313\n",
      "Attribute: ANZ_HAUSHALTE_AKTIV, Weight: 0.12945840781419235\n",
      "Attribute: KBA05_ANTG3, Weight: 0.1311492207123101\n",
      "Attribute: SEMIO_REL, Weight: 0.13397785389257058\n",
      "Attribute: ARBEIT, Weight: 0.1350446099990612\n",
      "Attribute: SEMIO_PFLICHT, Weight: 0.13682057413537496\n",
      "Attribute: PLZ8_ANTG2, Weight: 0.14236815457452826\n",
      "Attribute: FINANZ_HAUSBAUER, Weight: 0.14315116169390807\n",
      "Attribute: KBA05_ANTG4, Weight: 0.14547592461024408\n",
      "Attribute: FINANZ_SPARER, Weight: 0.1681463409664051\n",
      "Attribute: EWDICHTE, Weight: 0.18132692151622828\n",
      "Attribute: ORTSGR_KLS9, Weight: 0.18377715558482333\n",
      "Attribute: HH_EINKOMMEN_SCORE, Weight: 0.19478384727606535\n",
      "Attribute: Wealth, Weight: 0.1966604746898537\n",
      "Attribute: PLZ8_ANTG4, Weight: 0.2063110554030144\n",
      "Attribute: PLZ8_ANTG3, Weight: 0.21279768895218396\n"
     ]
    }
   ],
   "source": [
    "# Map weights for the first principal component to corresponding feature names\n",
    "# and then print the linked values, sorted by weight.\n",
    "# HINT: Try defining a function here or in a new cell that you can reuse in the\n",
    "# other cells.\n",
    "def map_components(df, pca, component_index):\n",
    "    data_dict = {}\n",
    "    for column in range(0,len(pca.components_[component_index])):\n",
    "        data_dict[df.columns[column]] = pca.components_[component_index][column]\n",
    "    sorted_data = sorted(data_dict.items(), key=lambda kv: kv[1])\n",
    "    sorted_dict = collections.OrderedDict(sorted_data)\n",
    "    sort_attributes = list(sorted_dict.keys())\n",
    "    sort_weights = list(sorted_dict.values())\n",
    "    for index in range(0,len(sort_attributes)):\n",
    "        print('Attribute: {}, Weight: {}'.format(sort_attributes[index], sort_weights[index]))\n",
    "    return sort_attributes, sort_weights, sorted_dict\n",
    "        \n",
    "list_1, weights_1, dict_1 = map_components(df_1, pca, 0)"
   ]
  },
  {
   "cell_type": "code",
   "execution_count": 11,
   "metadata": {
    "scrolled": true
   },
   "outputs": [
    {
     "name": "stdout",
     "output_type": "stream",
     "text": [
      "Attribute: SEMIO_REL, Weight: -0.2502734088463037\n",
      "Attribute: Decade, Weight: -0.23547523040228518\n",
      "Attribute: SEMIO_PFLICHT, Weight: -0.22323428403237008\n",
      "Attribute: SEMIO_TRADV, Weight: -0.2167939543940618\n",
      "Attribute: FINANZ_SPARER, Weight: -0.21557033910143772\n",
      "Attribute: FINANZ_UNAUFFAELLIGER, Weight: -0.21486413354017292\n",
      "Attribute: SEMIO_KULT, Weight: -0.21175624745546354\n",
      "Attribute: FINANZ_ANLEGER, Weight: -0.19320695850079586\n",
      "Attribute: SEMIO_FAM, Weight: -0.17179430137847065\n",
      "Attribute: ONLINE_AFFINITAET, Weight: -0.16334214571764644\n",
      "Attribute: SEMIO_RAT, Weight: -0.15856745320152182\n",
      "Attribute: SEMIO_MAT, Weight: -0.14447875120732181\n",
      "Attribute: PLZ8_ANTG1, Weight: -0.11854331688702355\n",
      "Attribute: MOBI_REGIO, Weight: -0.1177749080062811\n",
      "Attribute: KBA05_GBZ, Weight: -0.11383545259244618\n",
      "Attribute: KBA05_ANTG1, Weight: -0.10798592953805894\n",
      "Attribute: SEMIO_SOZ, Weight: -0.09966056967581056\n",
      "Attribute: INNENSTADT, Weight: -0.09387966427468308\n",
      "Attribute: PLZ8_GBZ, Weight: -0.0934167265653605\n",
      "Attribute: KONSUMNAEHE, Weight: -0.08523060670941186\n",
      "Attribute: BALLRAUM, Weight: -0.07493163978964368\n",
      "Attribute: SEMIO_VERT, Weight: -0.0728619325430935\n",
      "Attribute: ANZ_PERSONEN, Weight: -0.07139149441065519\n",
      "Attribute: GEBAEUDETYP_RASTER, Weight: -0.05432409297739148\n",
      "Attribute: HEALTH_TYP, Weight: -0.04937677273894808\n",
      "Attribute: KBA13_ANZAHL_PKW, Weight: -0.04607204768813258\n",
      "Attribute: MIN_GEBAEUDEJAHR, Weight: -0.03255289470267945\n",
      "Attribute: GREEN_AVANTGARDE, Weight: -0.031812935853593204\n",
      "Attribute: Movement, Weight: -0.0318129358535932\n",
      "Attribute: Family_Age, Weight: -0.018985752481760952\n",
      "Attribute: KBA05_ANTG2, Weight: -0.007460320247297782\n",
      "Attribute: CAMEO_DEU_2015, Weight: -0.004230022610492341\n",
      "Attribute: ANZ_TITEL, Weight: 0.006648672217802825\n",
      "Attribute: KKK, Weight: 0.010839168352621904\n",
      "Attribute: PLZ8_HHZ, Weight: 0.015974177418698696\n",
      "Attribute: REGIOTYP, Weight: 0.03236623216912203\n",
      "Attribute: ANZ_HH_TITEL, Weight: 0.03326711379298345\n",
      "Attribute: FINANZ_MINIMALIST, Weight: 0.03783461928895236\n",
      "Attribute: WOHNDAUER_2008, Weight: 0.05163913962608272\n",
      "Attribute: KBA05_ANTG3, Weight: 0.06367032180830043\n",
      "Attribute: HH_EINKOMMEN_SCORE, Weight: 0.0707672744243328\n",
      "Attribute: SEMIO_DOM, Weight: 0.07156179352553393\n",
      "Attribute: ANZ_HAUSHALTE_AKTIV, Weight: 0.0748136818240824\n",
      "Attribute: RELAT_AB, Weight: 0.0796927544874798\n",
      "Attribute: PLZ8_ANTG2, Weight: 0.08059718068936764\n",
      "Attribute: ARBEIT, Weight: 0.08343632290019044\n",
      "Attribute: KBA05_ANTG4, Weight: 0.0843516756215025\n",
      "Attribute: ANREDE_KZ, Weight: 0.09139477717255905\n",
      "Attribute: Wealth, Weight: 0.09492489293507603\n",
      "Attribute: ORTSGR_KLS9, Weight: 0.1130362110608522\n",
      "Attribute: EWDICHTE, Weight: 0.11362144245685743\n",
      "Attribute: PLZ8_ANTG4, Weight: 0.11505602011043763\n",
      "Attribute: SEMIO_KAEM, Weight: 0.11693297904057084\n",
      "Attribute: W_KEIT_KIND_HH, Weight: 0.12021890997687429\n",
      "Attribute: PLZ8_ANTG3, Weight: 0.12027997232680261\n",
      "Attribute: SEMIO_KRIT, Weight: 0.12266804466523372\n",
      "Attribute: FINANZ_HAUSBAUER, Weight: 0.13223018867085756\n",
      "Attribute: RETOURTYP_BK_S, Weight: 0.16073163999793352\n",
      "Attribute: SEMIO_LUST, Weight: 0.1679901863191447\n",
      "Attribute: FINANZ_VORSORGER, Weight: 0.21306688716695993\n",
      "Attribute: SEMIO_ERL, Weight: 0.22377983404712223\n",
      "Attribute: ALTERSKATEGORIE_GROB, Weight: 0.24375434798415263\n"
     ]
    }
   ],
   "source": [
    "# Map weights for the second principal component to corresponding feature names\n",
    "# and then print the linked values, sorted by weight.\n",
    "list_2, weights_2, dict_2 = map_components(df_1, pca, 1)"
   ]
  },
  {
   "cell_type": "code",
   "execution_count": 12,
   "metadata": {
    "scrolled": true
   },
   "outputs": [
    {
     "name": "stdout",
     "output_type": "stream",
     "text": [
      "Attribute: ANREDE_KZ, Weight: -0.36711809162863857\n",
      "Attribute: SEMIO_KAEM, Weight: -0.3365227653700403\n",
      "Attribute: SEMIO_DOM, Weight: -0.31257109142746115\n",
      "Attribute: SEMIO_KRIT, Weight: -0.26885700498879234\n",
      "Attribute: SEMIO_RAT, Weight: -0.21885019505240036\n",
      "Attribute: FINANZ_ANLEGER, Weight: -0.18927887350951844\n",
      "Attribute: SEMIO_ERL, Weight: -0.16922620148199058\n",
      "Attribute: Decade, Weight: -0.10830262427983939\n",
      "Attribute: FINANZ_SPARER, Weight: -0.1017444100003995\n",
      "Attribute: FINANZ_UNAUFFAELLIGER, Weight: -0.09282685148443044\n",
      "Attribute: SEMIO_TRADV, Weight: -0.08631744805559455\n",
      "Attribute: SEMIO_PFLICHT, Weight: -0.07718355003034455\n",
      "Attribute: ONLINE_AFFINITAET, Weight: -0.05621557858529397\n",
      "Attribute: PLZ8_ANTG1, Weight: -0.04696084260380839\n",
      "Attribute: FINANZ_HAUSBAUER, Weight: -0.04681254106490933\n",
      "Attribute: INNENSTADT, Weight: -0.045752008671699824\n",
      "Attribute: KONSUMNAEHE, Weight: -0.04031815926589369\n",
      "Attribute: PLZ8_GBZ, Weight: -0.037856683979965805\n",
      "Attribute: BALLRAUM, Weight: -0.03781349391751237\n",
      "Attribute: MOBI_REGIO, Weight: -0.03184194978365426\n",
      "Attribute: GEBAEUDETYP_RASTER, Weight: -0.03178490529189919\n",
      "Attribute: KBA05_GBZ, Weight: -0.028877597018288115\n",
      "Attribute: HH_EINKOMMEN_SCORE, Weight: -0.02542132505731751\n",
      "Attribute: KBA05_ANTG1, Weight: -0.024450443879734187\n",
      "Attribute: KBA13_ANZAHL_PKW, Weight: -0.02152141408658922\n",
      "Attribute: KKK, Weight: -0.01695367900385755\n",
      "Attribute: HEALTH_TYP, Weight: -0.011925726272928648\n",
      "Attribute: KBA05_ANTG2, Weight: -0.011864283088408659\n",
      "Attribute: MIN_GEBAEUDEJAHR, Weight: -0.011212852186780939\n",
      "Attribute: Family_Age, Weight: -0.009799898443408894\n",
      "Attribute: ANZ_PERSONEN, Weight: -0.00627206931469844\n",
      "Attribute: REGIOTYP, Weight: -0.004742743184492507\n",
      "Attribute: CAMEO_DEU_2015, Weight: 0.005098596903200694\n",
      "Attribute: PLZ8_HHZ, Weight: 0.007143580559615285\n",
      "Attribute: KBA05_ANTG3, Weight: 0.007741884825199315\n",
      "Attribute: ANZ_TITEL, Weight: 0.01047451104124208\n",
      "Attribute: ANZ_HH_TITEL, Weight: 0.014761341920033538\n",
      "Attribute: Wealth, Weight: 0.025539847170343563\n",
      "Attribute: ANZ_HAUSHALTE_AKTIV, Weight: 0.027405484325891048\n",
      "Attribute: KBA05_ANTG4, Weight: 0.029928478483258386\n",
      "Attribute: PLZ8_ANTG2, Weight: 0.03145388738006564\n",
      "Attribute: RELAT_AB, Weight: 0.03211030287540333\n",
      "Attribute: ARBEIT, Weight: 0.032993380362980974\n",
      "Attribute: WOHNDAUER_2008, Weight: 0.03490169815287348\n",
      "Attribute: PLZ8_ANTG3, Weight: 0.04686657883980714\n",
      "Attribute: PLZ8_ANTG4, Weight: 0.04729926910298901\n",
      "Attribute: SEMIO_MAT, Weight: 0.0494900380051632\n",
      "Attribute: ORTSGR_KLS9, Weight: 0.049877596646528896\n",
      "Attribute: EWDICHTE, Weight: 0.05027731464184921\n",
      "Attribute: GREEN_AVANTGARDE, Weight: 0.050842604325911034\n",
      "Attribute: Movement, Weight: 0.05084260432591104\n",
      "Attribute: SEMIO_LUST, Weight: 0.07380587207886186\n",
      "Attribute: SEMIO_REL, Weight: 0.07618161497126819\n",
      "Attribute: ALTERSKATEGORIE_GROB, Weight: 0.08299813606831262\n",
      "Attribute: W_KEIT_KIND_HH, Weight: 0.09540376569130833\n",
      "Attribute: FINANZ_VORSORGER, Weight: 0.0989907879678622\n",
      "Attribute: RETOURTYP_BK_S, Weight: 0.11651473871782277\n",
      "Attribute: FINANZ_MINIMALIST, Weight: 0.15619865914345565\n",
      "Attribute: SEMIO_KULT, Weight: 0.2311274549995084\n",
      "Attribute: SEMIO_FAM, Weight: 0.2511835190867662\n",
      "Attribute: SEMIO_SOZ, Weight: 0.2632446170435418\n",
      "Attribute: SEMIO_VERT, Weight: 0.3478273391860293\n"
     ]
    }
   ],
   "source": [
    "# Map weights for the third principal component to corresponding feature names\n",
    "# and then print the linked values, sorted by weight.\n",
    "list_3, weights_3, dict_3 =  map_components(df_1, pca, 2)\n"
   ]
  },
  {
   "cell_type": "code",
   "execution_count": 13,
   "metadata": {},
   "outputs": [],
   "source": [
    "def split_data(sorted_dict):\n",
    "    pos_list = []\n",
    "    neg_list = []\n",
    "    for key in sorted_dict.keys():\n",
    "        if sorted_dict[key] > 0:\n",
    "            pos_list.append(key)\n",
    "        else:\n",
    "            neg_list.append(key)\n",
    "\n",
    "    return pos_list, neg_list\n",
    "\n",
    "pos_list_1, neg_list_1 = np.array(split_data(dict_1))\n",
    "pos_list_2, neg_list_2 = np.array(split_data(dict_2))\n",
    "pos_list_3, neg_list_3 = np.array(split_data(dict_3))\n"
   ]
  },
  {
   "cell_type": "code",
   "execution_count": 14,
   "metadata": {},
   "outputs": [
    {
     "name": "stdout",
     "output_type": "stream",
     "text": [
      "14\n",
      "14\n",
      "[False False False False False False False False False False False False\n",
      " False False]\n"
     ]
    }
   ],
   "source": [
    "isct_12 = np.intersect1d(pos_list_1, pos_list_2)\n",
    "isct_13 = np.intersect1d(pos_list_1, pos_list_3)\n",
    "isct_23 = np.intersect1d(pos_list_2, pos_list_3)\n",
    "isct_1 = np.intersect1d(isct_12, isct_13)\n",
    "isct_pos = np.intersect1d(isct_23, isct_1)\n",
    "\n",
    "isct_12 = np.intersect1d(neg_list_1, neg_list_2)\n",
    "isct_13 = np.intersect1d(neg_list_1, neg_list_3)\n",
    "isct_23 = np.intersect1d(neg_list_2, neg_list_3)\n",
    "isct_1 = np.intersect1d(isct_12, isct_13)\n",
    "isct_neg = np.intersect1d(isct_23, isct_1)\n",
    "\n",
    "print(len(isct_pos))\n",
    "print(len(isct_neg))\n",
    "print(isct_pos == isct_neg)\n"
   ]
  },
  {
   "cell_type": "markdown",
   "metadata": {},
   "source": [
    "### Discussion 2.3: Interpret Principal Components\n",
    "\n",
    "(Double-click this cell and replace this text with your own text, reporting your observations from detailed investigation of the first few principal components generated. Can we interpret positive and negative values from them in a meaningful way?)\n",
    "\n",
    "We are able to interpret them in the way outlined in the cell above. For positive values, there are 14 weights that are positive for all 3 principal components and 14 values are also negative for all 3 components. None of these attributes are the same between the either the positive group or negative group, which means that we have some values that are consistent across multiple principal components"
   ]
  },
  {
   "cell_type": "markdown",
   "metadata": {},
   "source": [
    "## Step 3: Clustering\n",
    "\n",
    "### Step 3.1: Apply Clustering to General Population\n",
    "\n",
    "You've assessed and cleaned the demographics data, then scaled and transformed them. Now, it's time to see how the data clusters in the principal components space. In this substep, you will apply k-means clustering to the dataset and use the average within-cluster distances from each point to their assigned cluster's centroid to decide on a number of clusters to keep.\n",
    "\n",
    "- Use sklearn's [KMeans](http://scikit-learn.org/stable/modules/generated/sklearn.cluster.KMeans.html#sklearn.cluster.KMeans) class to perform k-means clustering on the PCA-transformed data.\n",
    "- Then, compute the average difference from each point to its assigned cluster's center. **Hint**: The KMeans object's `.score()` method might be useful here, but note that in sklearn, scores tend to be defined so that larger is better. Try applying it to a small, toy dataset, or use an internet search to help your understanding.\n",
    "- Perform the above two steps for a number of different cluster counts. You can then see how the average distance decreases with an increasing number of clusters. However, each additional cluster provides a smaller net benefit. Use this fact to select a final number of clusters in which to group the data. **Warning**: because of the large size of the dataset, it can take a long time for the algorithm to resolve. The more clusters to fit, the longer the algorithm will take. You should test for cluster counts through at least 10 clusters to get the full picture, but you shouldn't need to test for a number of clusters above about 30.\n",
    "- Once you've selected a final number of clusters to use, re-fit a KMeans instance to perform the clustering operation. Make sure that you also obtain the cluster assignments for the general demographics data, since you'll be using them in the final Step 3.3."
   ]
  },
  {
   "cell_type": "code",
   "execution_count": 15,
   "metadata": {
    "scrolled": true
   },
   "outputs": [
    {
     "name": "stdout",
     "output_type": "stream",
     "text": [
      "Completed Cluster 1... score is 28304522.58497605\n",
      "Completed Cluster 2... score is 23153999.877526883\n",
      "Completed Cluster 3... score is 20333994.041004512\n"
     ]
    },
    {
     "ename": "KeyboardInterrupt",
     "evalue": "",
     "output_type": "error",
     "traceback": [
      "\u001b[0;31m---------------------------------------------------------------------------\u001b[0m",
      "\u001b[0;31mKeyboardInterrupt\u001b[0m                         Traceback (most recent call last)",
      "\u001b[0;32m<ipython-input-15-0dfc973081c9>\u001b[0m in \u001b[0;36m<module>\u001b[0;34m()\u001b[0m\n\u001b[1;32m      5\u001b[0m     \u001b[0mk_means\u001b[0m \u001b[0;34m=\u001b[0m \u001b[0mKMeans\u001b[0m\u001b[0;34m(\u001b[0m\u001b[0mn_clusters\u001b[0m\u001b[0;34m)\u001b[0m\u001b[0;34m\u001b[0m\u001b[0m\n\u001b[1;32m      6\u001b[0m     \u001b[0;31m# run k-means clustering on the data and...\u001b[0m\u001b[0;34m\u001b[0m\u001b[0;34m\u001b[0m\u001b[0m\n\u001b[0;32m----> 7\u001b[0;31m     \u001b[0mmodel\u001b[0m \u001b[0;34m=\u001b[0m \u001b[0mk_means\u001b[0m\u001b[0;34m.\u001b[0m\u001b[0mfit\u001b[0m\u001b[0;34m(\u001b[0m\u001b[0mX_pca\u001b[0m\u001b[0;34m)\u001b[0m\u001b[0;34m\u001b[0m\u001b[0m\n\u001b[0m\u001b[1;32m      8\u001b[0m     \u001b[0mlabels_4\u001b[0m \u001b[0;34m=\u001b[0m \u001b[0mmodel\u001b[0m\u001b[0;34m.\u001b[0m\u001b[0mpredict\u001b[0m\u001b[0;34m(\u001b[0m\u001b[0mX_pca\u001b[0m\u001b[0;34m)\u001b[0m\u001b[0;34m\u001b[0m\u001b[0m\n\u001b[1;32m      9\u001b[0m     \u001b[0;31m# compute the average within-cluster distances.\u001b[0m\u001b[0;34m\u001b[0m\u001b[0;34m\u001b[0m\u001b[0m\n",
      "\u001b[0;32m/opt/conda/lib/python3.6/site-packages/sklearn/cluster/k_means_.py\u001b[0m in \u001b[0;36mfit\u001b[0;34m(self, X, y)\u001b[0m\n\u001b[1;32m    894\u001b[0m                 \u001b[0mtol\u001b[0m\u001b[0;34m=\u001b[0m\u001b[0mself\u001b[0m\u001b[0;34m.\u001b[0m\u001b[0mtol\u001b[0m\u001b[0;34m,\u001b[0m \u001b[0mrandom_state\u001b[0m\u001b[0;34m=\u001b[0m\u001b[0mrandom_state\u001b[0m\u001b[0;34m,\u001b[0m \u001b[0mcopy_x\u001b[0m\u001b[0;34m=\u001b[0m\u001b[0mself\u001b[0m\u001b[0;34m.\u001b[0m\u001b[0mcopy_x\u001b[0m\u001b[0;34m,\u001b[0m\u001b[0;34m\u001b[0m\u001b[0m\n\u001b[1;32m    895\u001b[0m                 \u001b[0mn_jobs\u001b[0m\u001b[0;34m=\u001b[0m\u001b[0mself\u001b[0m\u001b[0;34m.\u001b[0m\u001b[0mn_jobs\u001b[0m\u001b[0;34m,\u001b[0m \u001b[0malgorithm\u001b[0m\u001b[0;34m=\u001b[0m\u001b[0mself\u001b[0m\u001b[0;34m.\u001b[0m\u001b[0malgorithm\u001b[0m\u001b[0;34m,\u001b[0m\u001b[0;34m\u001b[0m\u001b[0m\n\u001b[0;32m--> 896\u001b[0;31m                 return_n_iter=True)\n\u001b[0m\u001b[1;32m    897\u001b[0m         \u001b[0;32mreturn\u001b[0m \u001b[0mself\u001b[0m\u001b[0;34m\u001b[0m\u001b[0m\n\u001b[1;32m    898\u001b[0m \u001b[0;34m\u001b[0m\u001b[0m\n",
      "\u001b[0;32m/opt/conda/lib/python3.6/site-packages/sklearn/cluster/k_means_.py\u001b[0m in \u001b[0;36mk_means\u001b[0;34m(X, n_clusters, init, precompute_distances, n_init, max_iter, verbose, tol, random_state, copy_x, n_jobs, algorithm, return_n_iter)\u001b[0m\n\u001b[1;32m    344\u001b[0m                 \u001b[0mX\u001b[0m\u001b[0;34m,\u001b[0m \u001b[0mn_clusters\u001b[0m\u001b[0;34m,\u001b[0m \u001b[0mmax_iter\u001b[0m\u001b[0;34m=\u001b[0m\u001b[0mmax_iter\u001b[0m\u001b[0;34m,\u001b[0m \u001b[0minit\u001b[0m\u001b[0;34m=\u001b[0m\u001b[0minit\u001b[0m\u001b[0;34m,\u001b[0m \u001b[0mverbose\u001b[0m\u001b[0;34m=\u001b[0m\u001b[0mverbose\u001b[0m\u001b[0;34m,\u001b[0m\u001b[0;34m\u001b[0m\u001b[0m\n\u001b[1;32m    345\u001b[0m                 \u001b[0mprecompute_distances\u001b[0m\u001b[0;34m=\u001b[0m\u001b[0mprecompute_distances\u001b[0m\u001b[0;34m,\u001b[0m \u001b[0mtol\u001b[0m\u001b[0;34m=\u001b[0m\u001b[0mtol\u001b[0m\u001b[0;34m,\u001b[0m\u001b[0;34m\u001b[0m\u001b[0m\n\u001b[0;32m--> 346\u001b[0;31m                 x_squared_norms=x_squared_norms, random_state=random_state)\n\u001b[0m\u001b[1;32m    347\u001b[0m             \u001b[0;31m# determine if these results are the best so far\u001b[0m\u001b[0;34m\u001b[0m\u001b[0;34m\u001b[0m\u001b[0m\n\u001b[1;32m    348\u001b[0m             \u001b[0;32mif\u001b[0m \u001b[0mbest_inertia\u001b[0m \u001b[0;32mis\u001b[0m \u001b[0;32mNone\u001b[0m \u001b[0;32mor\u001b[0m \u001b[0minertia\u001b[0m \u001b[0;34m<\u001b[0m \u001b[0mbest_inertia\u001b[0m\u001b[0;34m:\u001b[0m\u001b[0;34m\u001b[0m\u001b[0m\n",
      "\u001b[0;32m/opt/conda/lib/python3.6/site-packages/sklearn/cluster/k_means_.py\u001b[0m in \u001b[0;36m_kmeans_single_elkan\u001b[0;34m(X, n_clusters, max_iter, init, verbose, x_squared_norms, random_state, tol, precompute_distances)\u001b[0m\n\u001b[1;32m    393\u001b[0m     \u001b[0;31m# init\u001b[0m\u001b[0;34m\u001b[0m\u001b[0;34m\u001b[0m\u001b[0m\n\u001b[1;32m    394\u001b[0m     centers = _init_centroids(X, n_clusters, init, random_state=random_state,\n\u001b[0;32m--> 395\u001b[0;31m                               x_squared_norms=x_squared_norms)\n\u001b[0m\u001b[1;32m    396\u001b[0m     \u001b[0mcenters\u001b[0m \u001b[0;34m=\u001b[0m \u001b[0mnp\u001b[0m\u001b[0;34m.\u001b[0m\u001b[0mascontiguousarray\u001b[0m\u001b[0;34m(\u001b[0m\u001b[0mcenters\u001b[0m\u001b[0;34m)\u001b[0m\u001b[0;34m\u001b[0m\u001b[0m\n\u001b[1;32m    397\u001b[0m     \u001b[0;32mif\u001b[0m \u001b[0mverbose\u001b[0m\u001b[0;34m:\u001b[0m\u001b[0;34m\u001b[0m\u001b[0m\n",
      "\u001b[0;32m/opt/conda/lib/python3.6/site-packages/sklearn/cluster/k_means_.py\u001b[0m in \u001b[0;36m_init_centroids\u001b[0;34m(X, k, init, random_state, x_squared_norms, init_size)\u001b[0m\n\u001b[1;32m    682\u001b[0m     \u001b[0;32mif\u001b[0m \u001b[0misinstance\u001b[0m\u001b[0;34m(\u001b[0m\u001b[0minit\u001b[0m\u001b[0;34m,\u001b[0m \u001b[0mstring_types\u001b[0m\u001b[0;34m)\u001b[0m \u001b[0;32mand\u001b[0m \u001b[0minit\u001b[0m \u001b[0;34m==\u001b[0m \u001b[0;34m'k-means++'\u001b[0m\u001b[0;34m:\u001b[0m\u001b[0;34m\u001b[0m\u001b[0m\n\u001b[1;32m    683\u001b[0m         centers = _k_init(X, k, random_state=random_state,\n\u001b[0;32m--> 684\u001b[0;31m                           x_squared_norms=x_squared_norms)\n\u001b[0m\u001b[1;32m    685\u001b[0m     \u001b[0;32melif\u001b[0m \u001b[0misinstance\u001b[0m\u001b[0;34m(\u001b[0m\u001b[0minit\u001b[0m\u001b[0;34m,\u001b[0m \u001b[0mstring_types\u001b[0m\u001b[0;34m)\u001b[0m \u001b[0;32mand\u001b[0m \u001b[0minit\u001b[0m \u001b[0;34m==\u001b[0m \u001b[0;34m'random'\u001b[0m\u001b[0;34m:\u001b[0m\u001b[0;34m\u001b[0m\u001b[0m\n\u001b[1;32m    686\u001b[0m         \u001b[0mseeds\u001b[0m \u001b[0;34m=\u001b[0m \u001b[0mrandom_state\u001b[0m\u001b[0;34m.\u001b[0m\u001b[0mpermutation\u001b[0m\u001b[0;34m(\u001b[0m\u001b[0mn_samples\u001b[0m\u001b[0;34m)\u001b[0m\u001b[0;34m[\u001b[0m\u001b[0;34m:\u001b[0m\u001b[0mk\u001b[0m\u001b[0;34m]\u001b[0m\u001b[0;34m\u001b[0m\u001b[0m\n",
      "\u001b[0;32m/opt/conda/lib/python3.6/site-packages/sklearn/cluster/k_means_.py\u001b[0m in \u001b[0;36m_k_init\u001b[0;34m(X, n_clusters, x_squared_norms, random_state, n_local_trials)\u001b[0m\n\u001b[1;32m    106\u001b[0m         \u001b[0;31m# to the squared distance to the closest existing center\u001b[0m\u001b[0;34m\u001b[0m\u001b[0;34m\u001b[0m\u001b[0m\n\u001b[1;32m    107\u001b[0m         \u001b[0mrand_vals\u001b[0m \u001b[0;34m=\u001b[0m \u001b[0mrandom_state\u001b[0m\u001b[0;34m.\u001b[0m\u001b[0mrandom_sample\u001b[0m\u001b[0;34m(\u001b[0m\u001b[0mn_local_trials\u001b[0m\u001b[0;34m)\u001b[0m \u001b[0;34m*\u001b[0m \u001b[0mcurrent_pot\u001b[0m\u001b[0;34m\u001b[0m\u001b[0m\n\u001b[0;32m--> 108\u001b[0;31m         candidate_ids = np.searchsorted(stable_cumsum(closest_dist_sq),\n\u001b[0m\u001b[1;32m    109\u001b[0m                                         rand_vals)\n\u001b[1;32m    110\u001b[0m \u001b[0;34m\u001b[0m\u001b[0m\n",
      "\u001b[0;32m/opt/conda/lib/python3.6/site-packages/sklearn/utils/extmath.py\u001b[0m in \u001b[0;36mstable_cumsum\u001b[0;34m(arr, axis, rtol, atol)\u001b[0m\n\u001b[1;32m    758\u001b[0m         \u001b[0;32mreturn\u001b[0m \u001b[0mnp\u001b[0m\u001b[0;34m.\u001b[0m\u001b[0mcumsum\u001b[0m\u001b[0;34m(\u001b[0m\u001b[0marr\u001b[0m\u001b[0;34m,\u001b[0m \u001b[0maxis\u001b[0m\u001b[0;34m=\u001b[0m\u001b[0maxis\u001b[0m\u001b[0;34m,\u001b[0m \u001b[0mdtype\u001b[0m\u001b[0;34m=\u001b[0m\u001b[0mnp\u001b[0m\u001b[0;34m.\u001b[0m\u001b[0mfloat64\u001b[0m\u001b[0;34m)\u001b[0m\u001b[0;34m\u001b[0m\u001b[0m\n\u001b[1;32m    759\u001b[0m \u001b[0;34m\u001b[0m\u001b[0m\n\u001b[0;32m--> 760\u001b[0;31m     \u001b[0mout\u001b[0m \u001b[0;34m=\u001b[0m \u001b[0mnp\u001b[0m\u001b[0;34m.\u001b[0m\u001b[0mcumsum\u001b[0m\u001b[0;34m(\u001b[0m\u001b[0marr\u001b[0m\u001b[0;34m,\u001b[0m \u001b[0maxis\u001b[0m\u001b[0;34m=\u001b[0m\u001b[0maxis\u001b[0m\u001b[0;34m,\u001b[0m \u001b[0mdtype\u001b[0m\u001b[0;34m=\u001b[0m\u001b[0mnp\u001b[0m\u001b[0;34m.\u001b[0m\u001b[0mfloat64\u001b[0m\u001b[0;34m)\u001b[0m\u001b[0;34m\u001b[0m\u001b[0m\n\u001b[0m\u001b[1;32m    761\u001b[0m     \u001b[0mexpected\u001b[0m \u001b[0;34m=\u001b[0m \u001b[0mnp\u001b[0m\u001b[0;34m.\u001b[0m\u001b[0msum\u001b[0m\u001b[0;34m(\u001b[0m\u001b[0marr\u001b[0m\u001b[0;34m,\u001b[0m \u001b[0maxis\u001b[0m\u001b[0;34m=\u001b[0m\u001b[0maxis\u001b[0m\u001b[0;34m,\u001b[0m \u001b[0mdtype\u001b[0m\u001b[0;34m=\u001b[0m\u001b[0mnp\u001b[0m\u001b[0;34m.\u001b[0m\u001b[0mfloat64\u001b[0m\u001b[0;34m)\u001b[0m\u001b[0;34m\u001b[0m\u001b[0m\n\u001b[1;32m    762\u001b[0m     if not np.all(np.isclose(out.take(-1, axis=axis), expected, rtol=rtol,\n",
      "\u001b[0;32m/opt/conda/lib/python3.6/site-packages/numpy/core/fromnumeric.py\u001b[0m in \u001b[0;36mcumsum\u001b[0;34m(a, axis, dtype, out)\u001b[0m\n\u001b[1;32m   2095\u001b[0m \u001b[0;34m\u001b[0m\u001b[0m\n\u001b[1;32m   2096\u001b[0m     \"\"\"\n\u001b[0;32m-> 2097\u001b[0;31m     \u001b[0;32mreturn\u001b[0m \u001b[0m_wrapfunc\u001b[0m\u001b[0;34m(\u001b[0m\u001b[0ma\u001b[0m\u001b[0;34m,\u001b[0m \u001b[0;34m'cumsum'\u001b[0m\u001b[0;34m,\u001b[0m \u001b[0maxis\u001b[0m\u001b[0;34m=\u001b[0m\u001b[0maxis\u001b[0m\u001b[0;34m,\u001b[0m \u001b[0mdtype\u001b[0m\u001b[0;34m=\u001b[0m\u001b[0mdtype\u001b[0m\u001b[0;34m,\u001b[0m \u001b[0mout\u001b[0m\u001b[0;34m=\u001b[0m\u001b[0mout\u001b[0m\u001b[0;34m)\u001b[0m\u001b[0;34m\u001b[0m\u001b[0m\n\u001b[0m\u001b[1;32m   2098\u001b[0m \u001b[0;34m\u001b[0m\u001b[0m\n\u001b[1;32m   2099\u001b[0m \u001b[0;34m\u001b[0m\u001b[0m\n",
      "\u001b[0;32m/opt/conda/lib/python3.6/site-packages/numpy/core/fromnumeric.py\u001b[0m in \u001b[0;36m_wrapfunc\u001b[0;34m(obj, method, *args, **kwds)\u001b[0m\n\u001b[1;32m     55\u001b[0m \u001b[0;32mdef\u001b[0m \u001b[0m_wrapfunc\u001b[0m\u001b[0;34m(\u001b[0m\u001b[0mobj\u001b[0m\u001b[0;34m,\u001b[0m \u001b[0mmethod\u001b[0m\u001b[0;34m,\u001b[0m \u001b[0;34m*\u001b[0m\u001b[0margs\u001b[0m\u001b[0;34m,\u001b[0m \u001b[0;34m**\u001b[0m\u001b[0mkwds\u001b[0m\u001b[0;34m)\u001b[0m\u001b[0;34m:\u001b[0m\u001b[0;34m\u001b[0m\u001b[0m\n\u001b[1;32m     56\u001b[0m     \u001b[0;32mtry\u001b[0m\u001b[0;34m:\u001b[0m\u001b[0;34m\u001b[0m\u001b[0m\n\u001b[0;32m---> 57\u001b[0;31m         \u001b[0;32mreturn\u001b[0m \u001b[0mgetattr\u001b[0m\u001b[0;34m(\u001b[0m\u001b[0mobj\u001b[0m\u001b[0;34m,\u001b[0m \u001b[0mmethod\u001b[0m\u001b[0;34m)\u001b[0m\u001b[0;34m(\u001b[0m\u001b[0;34m*\u001b[0m\u001b[0margs\u001b[0m\u001b[0;34m,\u001b[0m \u001b[0;34m**\u001b[0m\u001b[0mkwds\u001b[0m\u001b[0;34m)\u001b[0m\u001b[0;34m\u001b[0m\u001b[0m\n\u001b[0m\u001b[1;32m     58\u001b[0m \u001b[0;34m\u001b[0m\u001b[0m\n\u001b[1;32m     59\u001b[0m     \u001b[0;31m# An AttributeError occurs if the object does not have\u001b[0m\u001b[0;34m\u001b[0m\u001b[0;34m\u001b[0m\u001b[0m\n",
      "\u001b[0;31mKeyboardInterrupt\u001b[0m: "
     ]
    }
   ],
   "source": [
    "# Over a number of different cluster counts...\n",
    "scores = []\n",
    "clusters = []\n",
    "for n_clusters in range(1,31):\n",
    "    k_means = KMeans(n_clusters)\n",
    "    # run k-means clustering on the data and...\n",
    "    model = k_means.fit(X_pca)\n",
    "    labels_4 = model.predict(X_pca)\n",
    "    # compute the average within-cluster distances.\n",
    "    score = abs(model.score(X_pca))\n",
    "    scores.append(score)\n",
    "    clusters.append(n_clusters)\n",
    "    #plot_data(X_pca, labels_4)\n",
    "    print('Completed Cluster {}... score is {}'.format(n_clusters, score))\n"
   ]
  },
  {
   "cell_type": "code",
   "execution_count": null,
   "metadata": {},
   "outputs": [],
   "source": [
    "# Investigate the change in within-cluster distance across number of clusters.\n",
    "# HINT: Use matplotlib's plot function to visualize this relationship.\n",
    "\n",
    "plt.plot(clusters, scores, linestyle='--', marker='o', color='b')\n",
    "plt.xlabel('K');\n",
    "plt.ylabel('SSE');\n",
    "plt.title('SSE vs. K');\n",
    "plt.show()"
   ]
  },
  {
   "cell_type": "code",
   "execution_count": 10,
   "metadata": {},
   "outputs": [],
   "source": [
    "# Re-fit the k-means model with the selected number of clusters and obtain\n",
    "# cluster predictions for the general population demographics data.\n",
    "k_means = KMeans(n_clusters = 15)\n",
    "model = k_means.fit(X_pca)\n",
    "labels_gen = model.predict(X_pca)\n",
    "score = abs(model.score(X_pca))"
   ]
  },
  {
   "cell_type": "markdown",
   "metadata": {},
   "source": [
    "### Discussion 3.1: Apply Clustering to General Population\n",
    "\n",
    "(Double-click this cell and replace this text with your own text, reporting your findings and decisions regarding clustering. Into how many clusters have you decided to segment the population?)\n",
    "\n",
    "The clustering algorithm score appears to begin leveling off to a linear change in at roughly 13 to 15 clusters. This means that in these numbers, the algorithm's score decreases linearly with the number of clusters, allowing us to pick number of clusters along the line depending upon our usage of the data and how accurate we need the data to be. For computational purposes we will choose 15 as it is the approximate value at which the function begins to follow a linear curve."
   ]
  },
  {
   "cell_type": "markdown",
   "metadata": {},
   "source": [
    "### Step 3.2: Apply All Steps to the Customer Data\n",
    "\n",
    "Now that you have clusters and cluster centers for the general population, it's time to see how the customer data maps on to those clusters. Take care to not confuse this for re-fitting all of the models to the customer data. Instead, you're going to use the fits from the general population to clean, transform, and cluster the customer data. In the last step of the project, you will interpret how the general population fits apply to the customer data.\n",
    "\n",
    "- Don't forget when loading in the customers data, that it is semicolon (`;`) delimited.\n",
    "- Apply the same feature wrangling, selection, and engineering steps to the customer demographics using the `clean_data()` function you created earlier. (You can assume that the customer demographics data has similar meaning behind missing data patterns as the general demographics data.)\n",
    "- Use the sklearn objects from the general demographics data, and apply their transformations to the customers data. That is, you should not be using a `.fit()` or `.fit_transform()` method to re-fit the old objects, nor should you be creating new sklearn objects! Carry the data through the feature scaling, PCA, and clustering steps, obtaining cluster assignments for all of the data in the customer demographics data."
   ]
  },
  {
   "cell_type": "code",
   "execution_count": 66,
   "metadata": {},
   "outputs": [],
   "source": [
    "# Load in the customer demographics data.\n",
    "customers = pd.read_csv('Udacity_CUSTOMERS_Subset.csv', delimiter=';')"
   ]
  },
  {
   "cell_type": "code",
   "execution_count": 67,
   "metadata": {},
   "outputs": [
    {
     "name": "stdout",
     "output_type": "stream",
     "text": [
      "Missing values converted to NaNs...\n",
      "Columns missing >20% of data removed...\n",
      "76009 removed data points\n",
      "Rows missing more than 5 values removed...\n",
      "Reencoding Mixed and Categorical Features...\n",
      "Reencoding Complete...\n",
      "Concatenating Dataset...\n",
      "Cleaning complete.\n"
     ]
    },
    {
     "data": {
      "text/plain": [
       "2839165.8397698682"
      ]
     },
     "execution_count": 67,
     "metadata": {},
     "output_type": "execute_result"
    }
   ],
   "source": [
    "# Apply preprocessing, feature transformation, and clustering from the general\n",
    "# demographics onto the customer data, obtaining cluster predictions for the\n",
    "# customer demographics data.\n",
    "customers = clean_data(customers)\n",
    "cust_scaled = StandardScaler().fit_transform(customers)\n",
    "cust_pca = pca.transform(cust_scaled)\n",
    "labels_cust = model.predict(cust_pca)\n",
    "score = abs(model.score(cust_pca))\n",
    "score"
   ]
  },
  {
   "cell_type": "markdown",
   "metadata": {},
   "source": [
    "### Step 3.3: Compare Customer Data to Demographics Data\n",
    "\n",
    "At this point, you have clustered data based on demographics of the general population of Germany, and seen how the customer data for a mail-order sales company maps onto those demographic clusters. In this final substep, you will compare the two cluster distributions to see where the strongest customer base for the company is.\n",
    "\n",
    "Consider the proportion of persons in each cluster for the general population, and the proportions for the customers. If we think the company's customer base to be universal, then the cluster assignment proportions should be fairly similar between the two. If there are only particular segments of the population that are interested in the company's products, then we should see a mismatch from one to the other. If there is a higher proportion of persons in a cluster for the customer data compared to the general population (e.g. 5% of persons are assigned to a cluster for the general population, but 15% of the customer data is closest to that cluster's centroid) then that suggests the people in that cluster to be a target audience for the company. On the other hand, the proportion of the data in a cluster being larger in the general population than the customer data (e.g. only 2% of customers closest to a population centroid that captures 6% of the data) suggests that group of persons to be outside of the target demographics.\n",
    "\n",
    "Take a look at the following points in this step:\n",
    "\n",
    "- Compute the proportion of data points in each cluster for the general population and the customer data. Visualizations will be useful here: both for the individual dataset proportions, but also to visualize the ratios in cluster representation between groups. Seaborn's [`countplot()`](https://seaborn.pydata.org/generated/seaborn.countplot.html) or [`barplot()`](https://seaborn.pydata.org/generated/seaborn.barplot.html) function could be handy.\n",
    "  - Recall the analysis you performed in step 1.1.3 of the project, where you separated out certain data points from the dataset if they had more than a specified threshold of missing values. If you found that this group was qualitatively different from the main bulk of the data, you should treat this as an additional data cluster in this analysis. Make sure that you account for the number of data points in this subset, for both the general population and customer datasets, when making your computations!\n",
    "- Which cluster or clusters are overrepresented in the customer dataset compared to the general population? Select at least one such cluster and infer what kind of people might be represented by that cluster. Use the principal component interpretations from step 2.3 or look at additional components to help you make this inference. Alternatively, you can use the `.inverse_transform()` method of the PCA and StandardScaler objects to transform centroids back to the original data space and interpret the retrieved values directly.\n",
    "- Perform a similar investigation for the underrepresented clusters. Which cluster or clusters are underrepresented in the customer dataset compared to the general population, and what kinds of people are typified by these clusters?"
   ]
  },
  {
   "cell_type": "code",
   "execution_count": 114,
   "metadata": {
    "scrolled": false
   },
   "outputs": [
    {
     "name": "stderr",
     "output_type": "stream",
     "text": [
      "/opt/conda/lib/python3.6/site-packages/pandas/core/frame.py:6211: FutureWarning: Sorting because non-concatenation axis is not aligned. A future version\n",
      "of pandas will change to not sort by default.\n",
      "\n",
      "To accept the future behavior, pass 'sort=False'.\n",
      "\n",
      "To retain the current behavior and silence the warning, pass 'sort=True'.\n",
      "\n",
      "  sort=sort)\n"
     ]
    },
    {
     "name": "stdout",
     "output_type": "stream",
     "text": [
      "Label 15 is unlabeled data removed for missing values\n"
     ]
    },
    {
     "data": {
      "image/png": "[encoded data removed]",
      "text/plain": [
       "<matplotlib.figure.Figure at 0x7f96d1d06ac8>"
      ]
     },
     "metadata": {
      "needs_background": "light"
     },
     "output_type": "display_data"
    }
   ],
   "source": [
    "# Compare the proportion of data in each cluster for the customer data to the\n",
    "# proportion of data in each cluster for the general population.\n",
    "df_labels_cust  = pd.DataFrame(labels_cust, columns=['Label'])\n",
    "df_labels_gen = pd.DataFrame(labels_gen, columns=['Label'])\n",
    "\n",
    "gen_counts = pd.DataFrame(df_labels_gen['Label'].value_counts()).reset_index()\n",
    "gen_counts.columns = ['Label', 'Count']\n",
    "gen_counts = gen_counts.append(pd.DataFrame(data = {'Count':268012, 'Label':15}, index = [15]))\n",
    "gen_counts['Count'] = gen_counts['Count']/gen_counts['Count'].sum()\n",
    "\n",
    "cust_counts = pd.DataFrame(df_labels_cust['Label'].value_counts()).reset_index()\n",
    "cust_counts.columns = ['Label', 'Count']\n",
    "cust_counts = cust_counts.append(pd.DataFrame(data = {'Count':76009, 'Label':15}, index = [15]))\n",
    "cust_counts['Count'] = cust_counts['Count']/cust_counts['Count'].sum()\n",
    "\n",
    "color = sns.color_palette(palette = 'muted' )[0]\n",
    "fig, ax = plt.subplots(1,2, figsize = (20,10))\n",
    "fig1 = sns.barplot(data = gen_counts, x='Label', y='Count', ax = ax[0], color = color).set_title('General Population');\n",
    "\n",
    "fig2 = sns.barplot(data = cust_counts, x='Label', y='Count', ax = ax[1], color = color).set_title('Customer Population');\n",
    "ax[0].set_ylim(0,0.45)\n",
    "ax[1].set_ylim(0,0.45)\n",
    "print('Label 15 is unlabeled data removed for missing values')\n",
    "\n",
    "cust_counts = cust_counts.set_index('Label').sort_index()\n",
    "gen_counts = gen_counts.set_index('Label').sort_index()\n",
    "ratios = cust_counts/gen_counts\n",
    "ratios.columns = ['Ratio']"
   ]
  },
  {
   "cell_type": "code",
   "execution_count": 122,
   "metadata": {},
   "outputs": [],
   "source": [
    "over_repr = ratios[ratios['Ratio'] > 1].reset_index()\n",
    "under_repr = ratios[ratios['Ratio'] < 1].reset_index()"
   ]
  },
  {
   "cell_type": "code",
   "execution_count": 125,
   "metadata": {},
   "outputs": [
    {
     "data": {
      "text/plain": [
       "array([ 1,  2, 12, 14, 15])"
      ]
     },
     "execution_count": 125,
     "metadata": {},
     "output_type": "execute_result"
    }
   ],
   "source": [
    "# What kinds of people are part of a cluster that is overrepresented in the\n",
    "# customer data compared to the general population?\n",
    "over_repr['Label']\n"
   ]
  },
  {
   "cell_type": "code",
   "execution_count": 126,
   "metadata": {},
   "outputs": [],
   "source": [
    "def get_data_points(clusters):\n",
    "    pass"
   ]
  },
  {
   "cell_type": "code",
   "execution_count": null,
   "metadata": {},
   "outputs": [],
   "source": []
  },
  {
   "cell_type": "code",
   "execution_count": 99,
   "metadata": {},
   "outputs": [],
   "source": [
    "# What kinds of people are part of a cluster that is underrepresented in the\n",
    "# customer data compared to the general population?\n"
   ]
  },
  {
   "cell_type": "markdown",
   "metadata": {},
   "source": [
    "### Discussion 3.3: Compare Customer Data to Demographics Data\n",
    "\n",
    "(Double-click this cell and replace this text with your own text, reporting findings and conclusions from the clustering analysis. Can we describe segments of the population that are relatively popular with the mail-order company, or relatively unpopular with the company?)"
   ]
  },
  {
   "cell_type": "markdown",
   "metadata": {},
   "source": [
    "> Congratulations on making it this far in the project! Before you finish, make sure to check through the entire notebook from top to bottom to make sure that your analysis follows a logical flow and all of your findings are documented in **Discussion** cells. Once you've checked over all of your work, you should export the notebook as an HTML document to submit for evaluation. You can do this from the menu, navigating to **File -> Download as -> HTML (.html)**. You will submit both that document and this notebook for your project submission."
   ]
  },
  {
   "cell_type": "code",
   "execution_count": null,
   "metadata": {},
   "outputs": [],
   "source": []
  }
 ],
 "metadata": {
  "kernelspec": {
   "display_name": "Python 3",
   "language": "python",
   "name": "python3"
  },
  "language_info": {
   "codemirror_mode": {
    "name": "ipython",
    "version": 3
   },
   "file_extension": ".py",
   "mimetype": "text/x-python",
   "name": "python",
   "nbconvert_exporter": "python",
   "pygments_lexer": "ipython3",
   "version": "3.6.3"
  }
 },
 "nbformat": 4,
 "nbformat_minor": 2
}
